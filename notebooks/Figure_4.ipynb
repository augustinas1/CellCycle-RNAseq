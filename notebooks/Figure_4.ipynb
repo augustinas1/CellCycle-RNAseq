{
 "cells": [
  {
   "cell_type": "code",
   "execution_count": null,
   "id": "05fbcd81-5a13-41a5-997b-98ecb43ffd2d",
   "metadata": {},
   "outputs": [],
   "source": [
    "include(\"../analysis/mESC/load_analysis.jl\")\n",
    "include(\"../analysis/mESC/filter_prior.jl\")\n",
    "\n",
    "srcpath = normpath(srcpath*\"../age-dependent/\")\n",
    "fitpath = datapath*\"fits_age-dependent/\"\n",
    "include(srcpath*\"dists.jl\")\n",
    "include(srcpath*\"mle.jl\")\n",
    "\n",
    "# fix the replication point to be in the middle of the S phase\n",
    "θᵣ = θ_G1_S + (θ_S_G2M - θ_G1_S)/2\n",
    "\n",
    "fits_main = load(fitpath*\"fits_main.jld2\", \"fits_main\")\n",
    "include(\"../analysis/mESC/filter_post.jl\");"
   ]
  },
  {
   "cell_type": "markdown",
   "id": "e14651a1",
   "metadata": {},
   "source": [
    "# Fig. 4A: Cell division model vs age-independent model fits (5 example genes)"
   ]
  },
  {
   "cell_type": "markdown",
   "id": "8219676d",
   "metadata": {},
   "source": [
    "Note that for the $\\theta$-independent model we infer the burst frequency normalised by the degradation rate, $f/d$. For a proper comparison between the age-dependent and age-independent models we need to consider the absolute parameter values."
   ]
  },
  {
   "cell_type": "code",
   "execution_count": 62,
   "id": "cc53f262",
   "metadata": {},
   "outputs": [],
   "source": [
    "burst_freqs_G1_th_ind = get_burst_frequency.(G1_th_ind_fits) .* decay_rates\n",
    "burst_freqs_G2M_th_ind = get_burst_frequency.(G2M_th_ind_fits) .* decay_rates\n",
    "burst_sizes_G1_th_ind = get_burst_size.(G1_th_ind_fits)\n",
    "burst_sizes_G2M_th_ind = get_burst_size.(G2M_th_ind_fits);"
   ]
  },
  {
   "cell_type": "code",
   "execution_count": 63,
   "id": "aeaeaf17",
   "metadata": {},
   "outputs": [],
   "source": [
    "burst_freqs_G1_th_dep = get_burst_frequency_G1.(fits_main)\n",
    "burst_freqs_G2M_th_dep = get_burst_frequency_G2M.(fits_main)\n",
    "burst_sizes_G1_th_dep = get_burst_size_G1.(fits_main, Ref(thetaG1))\n",
    "burst_sizes_G2M_th_dep = get_burst_size_G2M.(fits_main, Ref(thetaG2M));"
   ]
  },
  {
   "cell_type": "code",
   "execution_count": 64,
   "id": "4a210f26",
   "metadata": {},
   "outputs": [],
   "source": [
    "ratio_f_G1 = burst_freqs_G1_th_dep ./ burst_freqs_G1_th_ind\n",
    "ratio_f_G2M = burst_freqs_G2M_th_dep ./ burst_freqs_G2M_th_ind\n",
    "ratio_b_G1 = burst_sizes_G1_th_dep ./ burst_sizes_G1_th_ind\n",
    "ratio_b_G2M = burst_sizes_G2M_th_dep ./ burst_sizes_G2M_th_ind;"
   ]
  },
  {
   "cell_type": "code",
   "execution_count": null,
   "id": "9dbb4563",
   "metadata": {},
   "outputs": [],
   "source": [
    "genes = [\"Klf4\", \"Fxyd6\", \"Acin1\", \"Lrpap1\", \"Fbxo5\"]\n",
    "@show genes\n",
    "inds = [findfirst(gene_names .== gene) for gene in genes];"
   ]
  },
  {
   "cell_type": "code",
   "execution_count": null,
   "id": "df22bfbd",
   "metadata": {},
   "outputs": [],
   "source": [
    "include(srcpath*\"confidence_main.jl\")"
   ]
  },
  {
   "cell_type": "code",
   "execution_count": null,
   "id": "14ef11a1",
   "metadata": {},
   "outputs": [],
   "source": [
    "CI_ratio_f_G1 = get_ratio_confidence_intervals(G1_th_ind_fits[inds], 2, fits_main[inds], counts_spliced[inds], theta,\n",
    "                                               \"G1\", T_cycle, decay_rates[inds], θᵣ, θ_G1_S, θ_S_G2M, get_burst_frequency_ratio_CI_PL,\n",
    "                                               alpha=0.05, resolution=100, verbose=true, time_limit=30.0, error_check=false)"
   ]
  },
  {
   "cell_type": "code",
   "execution_count": null,
   "id": "f7902ac6",
   "metadata": {},
   "outputs": [],
   "source": [
    "GC.gc()\n",
    "CI_ratio_b_G1 = get_ratio_confidence_intervals(G1_th_ind_fits[inds], 2, fits_main[inds], counts_spliced[inds], theta,\n",
    "                                               \"G1\", T_cycle, decay_rates[inds], θᵣ, θ_G1_S, θ_S_G2M, get_burst_size_ratio_CI_PL,\n",
    "                                               alpha=0.05, resolution=100, verbose=false, time_limit=30.0, error_check=false)"
   ]
  },
  {
   "cell_type": "code",
   "execution_count": null,
   "id": "ab906e00",
   "metadata": {},
   "outputs": [],
   "source": [
    "GC.gc()\n",
    "CI_ratio_f_G2M = get_ratio_confidence_intervals(G2M_th_ind_fits[inds], 4, fits_main[inds], counts_spliced[inds], theta,\n",
    "                                                \"G2/M\", T_cycle, decay_rates[inds], θᵣ, θ_G1_S, θ_S_G2M, get_burst_frequency_ratio_CI_PL,\n",
    "                                                alpha=0.05, resolution=100, verbose=false, time_limit=30.0, error_check=false)"
   ]
  },
  {
   "cell_type": "code",
   "execution_count": null,
   "id": "9311ce05",
   "metadata": {},
   "outputs": [],
   "source": [
    "GC.gc()\n",
    "CI_ratio_b_G2M = get_ratio_confidence_intervals(G2M_th_ind_fits[inds], 4, fits_main[inds], counts_spliced[inds], theta,\n",
    "                                                \"G2/M\", T_cycle, decay_rates[inds], θᵣ, θ_G1_S, θ_S_G2M, get_burst_size_ratio_CI_PL,\n",
    "                                                alpha=0.05, resolution=100, verbose=false, time_limit=30.0, error_check=false)"
   ]
  },
  {
   "cell_type": "code",
   "execution_count": null,
   "id": "336f6fab",
   "metadata": {},
   "outputs": [],
   "source": [
    "f = Figure(size = (size_pt[1]*0.9, size_pt[2]*1.5), figure_padding = 1)\n",
    "ga = f[1,1] = GridLayout()\n",
    "\n",
    "ax = Axis(ga[1,1],\n",
    "          xlabel=\"\", ylabel=\"Burst frequency ratio\", xticklabelsvisible=false)\n",
    "x = 1:length(genes)\n",
    "ax.xticks = (x, genes)\n",
    "\n",
    "y1 = ratio_f_G1[inds]\n",
    "y2 = ratio_f_G2M[inds]\n",
    "y1_lb = first.(CI_ratio_f_G1)\n",
    "y2_lb = first.(CI_ratio_f_G2M)\n",
    "y1_ub = last.(CI_ratio_f_G1)\n",
    "y2_ub = last.(CI_ratio_f_G2M)\n",
    "hlines!(ax, 1, color=(:black, 0.5), linestyle=:dash)\n",
    "scatter!(ax, x, y1, markersize=7, color=(c1, 0.95))\n",
    "scatter!(ax, x, y2, markersize=7, color=(c2, 0.95))\n",
    "errorbars!(ax, x, y1, y1 .- y1_lb, y1_ub .- y1, whiskerwidth=5, color=(c1, 0.95))\n",
    "errorbars!(ax, x, y2, y2 .- y2_lb, y2_ub .- y2, whiskerwidth=5, color=(c2, 0.95))\n",
    "ylims!(ax, (nothing, 3.5))\n",
    "\n",
    "ax = Axis(ga[2,1],\n",
    "          xlabel=\"\", ylabel=\"Burst size ratio\")\n",
    "x = 1:length(genes)\n",
    "ax.xticks = (x, genes)\n",
    "\n",
    "y1 = ratio_b_G1[inds]\n",
    "y2 = ratio_b_G2M[inds]\n",
    "y1_lb = first.(CI_ratio_b_G1)\n",
    "y2_lb = first.(CI_ratio_b_G2M)\n",
    "y1_ub = last.(CI_ratio_b_G1)\n",
    "y2_ub = last.(CI_ratio_b_G2M)\n",
    "hlines!(ax, 1, color=(:black, 0.5), linestyle=:dash)\n",
    "\n",
    "scatter!(ax, x, y1, markersize=7, color=(c1, 0.95))\n",
    "scatter!(ax, x, y2, markersize=7, color=(c2, 0.95))\n",
    "errorbars!(ax, x, y1, y1 .- y1_lb, y1_ub .- y1, whiskerwidth=5, color=(c1, 0.95))\n",
    "errorbars!(ax, x, y2, y2 .- y2_lb, y2_ub .- y2, whiskerwidth=5, color=(c2, 0.95))\n",
    "\n",
    "rowgap!(ga, 3)\n",
    "f"
   ]
  },
  {
   "cell_type": "markdown",
   "id": "06dcd642",
   "metadata": {},
   "source": [
    "# Fig. 4B: Cell division model vs age-independent model fits (all genes)"
   ]
  },
  {
   "cell_type": "code",
   "execution_count": 72,
   "id": "ba120942",
   "metadata": {},
   "outputs": [],
   "source": [
    "f = Figure(size = (size_pt[1]*0.9, size_pt[2]*1.7), figure_padding = 1)\n",
    "ga = f[1,1] = GridLayout()\n",
    "\n",
    "y1 = ratio_f_G1; x1 = fill(\"G1\", length(y1))\n",
    "y2 = ratio_f_G2M; x2 = fill(\"G2/M\", length(y2))\n",
    "ax1 = Axis(ga[1,1], xlabel=\"Burst frequency ratio\", ylabel=\"\", yticks=(1:2, [\"G1\", \"G2/M\"]))\n",
    "rainclouds!(ax1, vcat(x1, x2), vcat(y1, y2), gap=-0.7,\n",
    "            orientation = :horizontal,\n",
    "            color = vcat(fill(c1, length(y1)), fill(c2, length(y2))),\n",
    "            cloud_width=0.9, show_median=false, violin_limits=(-Inf, Inf),\n",
    "            boxplot_width=0.1, boxplot_nudge=0.0, strokewidth = 0.7, whiskerwidth=0,\n",
    "            jitter_width=0.2, markersize=1.3, side_nudge=0.12)\n",
    "vlines!(1, color=(:black, 0.4), linestyle=:dash)\n",
    "xlims!(0.0, 5.0)\n",
    "\n",
    "y1 = ratio_b_G1; x1 = fill(\"G1\", length(y1))\n",
    "y2 = ratio_b_G2M; x2 = fill(\"G2/M\", length(y2))\n",
    "ax2 = Axis(ga[2,1], xlabel=\"Burst size ratio\", ylabel=\"\", yticks=(1:2, [\"G1\", \"G2/M\"]), xticks=(0:0.5:2.0, [\"0\", \"0.5\", \"1.0\", \"1.5\", \"2\"]))\n",
    "rainclouds!(ax2, vcat(x1, x2), vcat(y1, y2), gap=-0.7,\n",
    "            orientation = :horizontal,\n",
    "            color = vcat(fill(c1, length(y1)), fill(c2, length(y2))),\n",
    "            cloud_width=0.9, show_median=false, violin_limits=(-Inf, Inf),\n",
    "            boxplot_width=0.1, boxplot_nudge=0.0, strokewidth = 0.7, whiskerwidth=0,\n",
    "            jitter_width=0.2, markersize=1.3, side_nudge=0.12)\n",
    "vlines!(1, color=(:black, 0.4), linestyle=:dash)\n",
    "xlims!(0.0, 2.0)\n",
    "\n",
    "rowgap!(ga, 7)"
   ]
  },
  {
   "cell_type": "code",
   "execution_count": null,
   "id": "4682b9ea",
   "metadata": {},
   "outputs": [],
   "source": [
    "f"
   ]
  },
  {
   "cell_type": "markdown",
   "id": "32b553e8",
   "metadata": {},
   "source": [
    "# Fig 4C: G2/M vs G1"
   ]
  },
  {
   "cell_type": "code",
   "execution_count": 74,
   "id": "0ffd3371",
   "metadata": {},
   "outputs": [],
   "source": [
    "ratio_f_th_dep = burst_freqs_G2M_th_dep ./ burst_freqs_G1_th_dep\n",
    "ratio_b_th_dep = burst_sizes_G2M_th_dep ./ burst_sizes_G1_th_dep\n",
    "ratio_f_th_ind = burst_freqs_G2M_th_ind ./ burst_freqs_G1_th_ind\n",
    "ratio_b_th_ind = burst_sizes_G2M_th_ind ./ burst_sizes_G1_th_ind;"
   ]
  },
  {
   "cell_type": "code",
   "execution_count": null,
   "id": "1ce47bdc",
   "metadata": {},
   "outputs": [],
   "source": [
    "@show median(ratio_f_th_dep)\n",
    "@show quantile(ratio_f_th_dep, 0.25)\n",
    "@show quantile(ratio_f_th_dep, 0.75);"
   ]
  },
  {
   "cell_type": "code",
   "execution_count": null,
   "id": "eae0e18c",
   "metadata": {},
   "outputs": [],
   "source": [
    "@show median(ratio_f_th_ind)\n",
    "@show quantile(ratio_f_th_ind, 0.25)\n",
    "@show quantile(ratio_f_th_ind, 0.75);"
   ]
  },
  {
   "cell_type": "code",
   "execution_count": null,
   "id": "2ca1991e",
   "metadata": {},
   "outputs": [],
   "source": [
    "@show median(ratio_b_th_dep)\n",
    "@show quantile(ratio_b_th_dep, 0.25)\n",
    "@show quantile(ratio_b_th_dep, 0.75);"
   ]
  },
  {
   "cell_type": "code",
   "execution_count": null,
   "id": "76fe9869",
   "metadata": {},
   "outputs": [],
   "source": [
    "@show median(ratio_b_th_ind)\n",
    "@show quantile(ratio_b_th_ind, 0.25)\n",
    "@show quantile(ratio_b_th_ind, 0.75);"
   ]
  },
  {
   "cell_type": "code",
   "execution_count": 79,
   "id": "182dc323",
   "metadata": {},
   "outputs": [],
   "source": [
    "x = ratio_f_th_dep\n",
    "y = ratio_b_th_dep\n",
    "f = Figure(size = (size_pt[1]*1.1, size_pt[2]*1.2), figure_padding = 1)\n",
    "\n",
    "ga = f[1, 1] = GridLayout()\n",
    "axtop = Axis(ga[1, 1], \n",
    "             leftspinevisible = false,\n",
    "             rightspinevisible = false,\n",
    "             bottomspinevisible = false,\n",
    "             topspinevisible = false)\n",
    "axmain = Axis(ga[2, 1], xlabel = \"\", ylabel = \"\",\n",
    "              yminorticks = IntervalsBetween(2),\n",
    "              yminorticksvisible = true,\n",
    "              yminorticksize = 1.5,\n",
    "              yminortickwidth = 0.7,\n",
    "              xticksmirrored = true,\n",
    "              yticksmirrored = true,\n",
    "              rightspinecolor = (c1, 1),\n",
    "              topspinecolor = (c2, 1))\n",
    "axright = Axis(ga[2, 2],\n",
    "               leftspinevisible = false,\n",
    "               rightspinevisible = false,\n",
    "               bottomspinevisible = false,\n",
    "               topspinevisible = false)\n",
    "\n",
    "linkyaxes!(axmain, axright)\n",
    "linkxaxes!(axmain, axtop)\n",
    "\n",
    "hidedecorations!(axtop, grid = false)\n",
    "hidedecorations!(axright, grid = false)\n",
    "scatter!(axmain, x, y, color=(:gray, 0.4), markersize=2)\n",
    "vlines!(axmain, 1, color=(:black, 0.4), linestyle=:dash)\n",
    "hlines!(axmain, 1, color=(:black, 0.4), linestyle=:dash)\n",
    "xlims!(axmain, low = 0, high = 2.0)\n",
    "\n",
    "density!(axtop, x, color=(c2), npoints=1000)\n",
    "density!(axtop, ratio_f_th_ind, color=(c2, 0.2), npoints=1000)\n",
    "hlines!(axtop, 0, color=(:black, 0.3), linewidth=0.3)\n",
    "boxplot!(axtop, fill(0.0, length(x)), x, orientation=:horizontal, strokewidth = 0.7, \n",
    "         width=0.7, whiskerwidth=0, show_outliers=false, color=(c2, 0))\n",
    "ylims!(axtop, low=-0.4, high=5.7)\n",
    "\n",
    "density!(axright, y, direction = :y, color=(c1), npoints=1000)\n",
    "density!(axright, ratio_b_th_ind, direction = :y, color=(c1, 0.2), npoints=1000)\n",
    "vlines!(axright, 0, color=(:black, 0.3), linewidth=0.3)\n",
    "boxplot!(axright, fill(0.0, length(y)), y, strokewidth = 0.7, \n",
    "         width=0.5, whiskerwidth=0, show_outliers=false, color=(c1, 0))\n",
    "ylims!(axright, low=0, high=3.0)\n",
    "xlims!(axright, low=-0.4, high=5.7)\n",
    "\n",
    "colgap!(ga, 2)\n",
    "rowgap!(ga, 2)\n",
    "colsize!(ga, 2, Relative(1.2/3))\n",
    "rowsize!(ga, 1, Relative(1.2/3))"
   ]
  },
  {
   "cell_type": "code",
   "execution_count": null,
   "id": "bbada47a",
   "metadata": {},
   "outputs": [],
   "source": [
    "f"
   ]
  },
  {
   "cell_type": "code",
   "execution_count": null,
   "id": "b408a7b5",
   "metadata": {},
   "outputs": [],
   "source": [
    "cor(ratio_f_th_dep, ratio_b_th_dep)"
   ]
  },
  {
   "cell_type": "code",
   "execution_count": null,
   "id": "adca24b5",
   "metadata": {},
   "outputs": [],
   "source": [
    "cor(ratio_f_th_ind, ratio_b_th_ind)"
   ]
  },
  {
   "cell_type": "markdown",
   "id": "4ef23da0",
   "metadata": {},
   "source": [
    "# Fig 4D: binomial downsampling test"
   ]
  },
  {
   "cell_type": "code",
   "execution_count": 83,
   "id": "5004edf7",
   "metadata": {},
   "outputs": [],
   "source": [
    "@load datapath*\"vec_downsampling_ratios.jld2\" inds vec_ratios_f vec_ratios_b;"
   ]
  },
  {
   "cell_type": "code",
   "execution_count": null,
   "id": "876800fd",
   "metadata": {},
   "outputs": [],
   "source": [
    "f = Figure(size = (size_pt[1]*1.25, size_pt[2]*0.9), figure_padding = 1)\n",
    "ga = f[1,1] = GridLayout()\n",
    "\n",
    "# Median ± interquartile ranges\n",
    "xi = 0.0; xf = 2.1\n",
    "ax1 = Axis(ga[1,1], xticks=(0:1:xf, [\"0\", \"1\", \"2\"]), yticks=(0:1:xf, [\"0\", \"1\", \"2\"]), \n",
    "           xlabel=\"True ratio\", ylabel=\"Observed ratio\")\n",
    "\n",
    "x = ratio_f_th_dep[inds]\n",
    "y = median.(vec_ratios_f)\n",
    "y_err_Q1 = y  .- quantile.(vec_ratios_f, 0.25)\n",
    "y_err_Q3 = quantile.(vec_ratios_f, 0.75) .- y\n",
    "errorbars!(ax1, x, y, y_err_Q1, y_err_Q3, whiskerwidth=3, linewidth=0.6, color=(c2, 0.2), direction=:y)\n",
    "scatter!(ax1, x, y, markersize=3, color=(c2, 0.5))\n",
    "\n",
    "lines!(ax1, 0:0.001:xf, 0:0.001:xf, color=(:black, 0.4), linestyle=:dash, linewidth=0.5)\n",
    "xlims!(ax1, xi, xf)\n",
    "ylims!(ax1, xi, xf)\n",
    "\n",
    "# Median ± interquartile ranges\n",
    "\n",
    "xi = 0.0; xf = 2.5\n",
    "ax2 = Axis(ga[1,2], xticks=(0:1.0:xf), yticks=(0:1.0:xf))\n",
    "\n",
    "x = ratio_b_th_dep[inds]\n",
    "y = median.(vec_ratios_b)\n",
    "y_err_Q1 = y  .- quantile.(vec_ratios_b, 0.25)\n",
    "y_err_Q3 = quantile.(vec_ratios_b, 0.75) .- y\n",
    "errorbars!(ax2, x, y, y_err_Q1, y_err_Q3, whiskerwidth=3, linewidth=0.6, color=(c1, 0.2), direction=:y)\n",
    "scatter!(ax2, x, y, markersize=3, color=(c1, 0.5))\n",
    "\n",
    "lines!(ax2, 0:0.001:xf, 0:0.001:xf, color=(:black, 0.4), linestyle=:dash, linewidth=0.5)\n",
    "xlims!(ax2, xi, xf)\n",
    "ylims!(ax2, xi, xf)\n",
    "\n",
    "colgap!(ga, 15)\n",
    "\n",
    "f"
   ]
  }
 ],
 "metadata": {
  "kernelspec": {
   "display_name": "Julia 1.11.2",
   "language": "julia",
   "name": "julia-1.11"
  },
  "language_info": {
   "file_extension": ".jl",
   "mimetype": "application/julia",
   "name": "julia",
   "version": "1.11.2"
  }
 },
 "nbformat": 4,
 "nbformat_minor": 5
}
