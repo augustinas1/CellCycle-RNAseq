{
 "cells": [
  {
   "cell_type": "markdown",
   "id": "0c071102",
   "metadata": {},
   "source": [
    "# Figure S2: Validation of age-dependent model inference"
   ]
  },
  {
   "cell_type": "code",
   "execution_count": null,
   "id": "05fbcd81-5a13-41a5-997b-98ecb43ffd2d",
   "metadata": {},
   "outputs": [],
   "source": [
    "include(\"../analysis/mESC/load_analysis.jl\")\n",
    "include(\"../analysis/mESC/filter_prior.jl\")\n",
    "\n",
    "srcpath = normpath(srcpath*\"../age-dependent/\")\n",
    "fitpath = datapath*\"fits_age-dependent/\"\n",
    "include(srcpath*\"dists.jl\")\n",
    "include(srcpath*\"mle.jl\")\n",
    "\n",
    "# fix the replication point to be in the middle of the S phase\n",
    "θᵣ = θ_G1_S + (θ_S_G2M - θ_G1_S)/2\n",
    "\n",
    "fits_main = load(fitpath*\"fits_main.jld2\", \"fits_main\")\n",
    "include(\"../analysis/mESC/filter_post.jl\")\n",
    "datapath = normpath(datapath*\"fits_age-dependent/\");"
   ]
  },
  {
   "cell_type": "markdown",
   "id": "7f16dd9d",
   "metadata": {},
   "source": [
    "# Supplementary Figure S2: synthetic validation"
   ]
  },
  {
   "cell_type": "code",
   "execution_count": 102,
   "id": "8ff696d5",
   "metadata": {},
   "outputs": [],
   "source": [
    "burst_freqs_G1_th_dep = get_burst_frequency_G1.(fits_main)\n",
    "burst_freqs_G2M_th_dep = get_burst_frequency_G2M.(fits_main)\n",
    "burst_sizes_G1_th_dep = get_burst_size_G1.(fits_main, Ref(thetaG1))\n",
    "burst_sizes_G2M_th_dep = get_burst_size_G2M.(fits_main, Ref(thetaG2M))\n",
    "ratio_f_th_dep = burst_freqs_G2M_th_dep ./ burst_freqs_G1_th_dep\n",
    "ratio_b_th_dep = burst_sizes_G2M_th_dep ./ burst_sizes_G1_th_dep;"
   ]
  },
  {
   "cell_type": "code",
   "execution_count": 103,
   "id": "30ff2746",
   "metadata": {},
   "outputs": [],
   "source": [
    "@load datapath*\"synthetic_data_gene_inds.jld2\" inds\n",
    "@load datapath*\"synthetic_data_fits.jld2\" all_fits;"
   ]
  },
  {
   "cell_type": "code",
   "execution_count": null,
   "id": "399a9e22",
   "metadata": {},
   "outputs": [],
   "source": [
    "n_examples = length(inds)\n",
    "n_samples = length(all_fits[1])"
   ]
  },
  {
   "cell_type": "code",
   "execution_count": null,
   "id": "9cb131b2",
   "metadata": {},
   "outputs": [],
   "source": [
    "true_ps = hcat((collect(params(m)) for m in fits_main[inds])...)"
   ]
  },
  {
   "cell_type": "code",
   "execution_count": 106,
   "id": "ba67bbd2",
   "metadata": {},
   "outputs": [],
   "source": [
    "ys_median = Vector{Vector{Float64}}(undef, n_examples)\n",
    "ys_Q1 = similar(ys_median)\n",
    "ys_Q3 = similar(ys_median)\n",
    "\n",
    "for i in 1:n_examples\n",
    "    refit_ps = hcat((collect(params(m)) for m in all_fits[i])...)\n",
    "    ys_median[i] = median.(eachrow(refit_ps))\n",
    "    ys_Q1[i] = quantile.(eachrow(refit_ps), 0.25)\n",
    "    ys_Q3[i] = quantile.(eachrow(refit_ps), 0.75)\n",
    "end"
   ]
  },
  {
   "cell_type": "code",
   "execution_count": null,
   "id": "d343e8f5",
   "metadata": {},
   "outputs": [],
   "source": [
    "function plot_param(ax::Axis, i::Int)\n",
    "    x = true_ps[i, :]\n",
    "    y = [_y[i] for _y in ys_median]\n",
    "    y_Q1 = [_y[i] for _y in ys_Q1]\n",
    "    y_Q3 = [_y[i] for _y in ys_Q3]\n",
    "    y_err_Q1 = y .- y_Q1\n",
    "    y_err_Q3 = y_Q3 .- y\n",
    "\n",
    "    xi = min(minimum(x), minimum(y_Q1))\n",
    "    xi = xi < 0 ? xi*1.1 : xi*0.9\n",
    "    xf = max(maximum(x), maximum(y_Q3))\n",
    "    xf = xf < 0 ? xf*0.9 : xf*1.1\n",
    "\n",
    "    errorbars!(ax, x, y, y_err_Q1, y_err_Q3, whiskerwidth=3, linewidth=0.6, color=(c1, 0.4), direction=:y)\n",
    "    scatter!(ax, x, y, markersize=3, color=(c1, 0.7))\n",
    "    hlines!(ax, 0, color=(:black, 0.2), linewidth=0.5)\n",
    "    lines!(ax, min(xi, 0):0.01:xf, min(xi, 0):0.01:xf, color=(:black, 0.4), linestyle=:dash, linewidth=0.5)\n",
    "    xlims!(ax, xi, xf)\n",
    "    ylims!(ax, xi, xf)\n",
    "\n",
    "    ax\n",
    "end"
   ]
  },
  {
   "cell_type": "code",
   "execution_count": null,
   "id": "aabecd90",
   "metadata": {},
   "outputs": [],
   "source": [
    "# identify fits that have failed (inference error)\n",
    "x = [findall([any(iszero.(params(m))) for m in fits]) for fits in all_fits]\n",
    "rinds = findall(!isempty(_x) for _x in x)\n",
    "rinds"
   ]
  },
  {
   "cell_type": "code",
   "execution_count": null,
   "id": "9b77331c",
   "metadata": {},
   "outputs": [],
   "source": [
    "findall(get_burst_frequency_G1.(all_fits[rinds[1]]) .== 0) "
   ]
  },
  {
   "cell_type": "code",
   "execution_count": null,
   "id": "35a5b46d",
   "metadata": {},
   "outputs": [],
   "source": [
    "all_fits[136][66] # all zeros indicate that inference failed"
   ]
  },
  {
   "cell_type": "code",
   "execution_count": 111,
   "id": "320c22b6",
   "metadata": {},
   "outputs": [],
   "source": [
    "# remove the single erroneous fit (has little impact on the interquartile range statistics)\n",
    "deleteat!(all_fits[136], 66);"
   ]
  },
  {
   "cell_type": "code",
   "execution_count": null,
   "id": "dd59e731",
   "metadata": {},
   "outputs": [],
   "source": [
    "f = Figure(size = (size_pt[1]*3.0, size_pt[2]*3.0), figure_padding = 1)\n",
    "ga = GridLayout(f[1,1])\n",
    "\n",
    "# Parameter f\n",
    "ax11 = plot_param(Axis(ga[1,1], xlabel=\"True f₁\", ylabel=\"Observed f₁\"), 1)\n",
    "xlims!(ax11, low=0, high=3.4); ylims!(ax11, low=0, high=3.4)\n",
    "ax12 = plot_param(Axis(ga[1,2], xlabel=\"True f₂\", ylabel=\"Observed f₂\"), 2)#\n",
    "xlims!(ax12, low=0, high=1.5); ylims!(ax12, low=0, high=1.5)\n",
    "ax13 = plot_param(Axis(ga[1,3], xlabel=\"True ρ₁\", ylabel=\"Observed ρ₁\"), 3)\n",
    "xlims!(ax13, low=0, high=6.5); ylims!(ax13, low=0, high=6.5)\n",
    "ax14 = plot_param(Axis(ga[1,4], xlabel=\"True ρ₂\", ylabel=\"Observed ρ₂\"), 4)\n",
    "xlims!(ax14, low=0, high=4); ylims!(ax14, low=0, high=4)\n",
    "# Parameter β\n",
    "ax21 = plot_param(Axis(ga[2,1], xlabel=\"True β₁\", ylabel=\"Observed β₁\"), 5)\n",
    "ax22 = plot_param(Axis(ga[2,2], xlabel=\"True β₂\", ylabel=\"Observed β₂\"), 6)\n",
    "ax23 = plot_param(Axis(ga[2,3], xlabel=\"True β₃\", ylabel=\"Observed β₃\"), 7)\n",
    "xlims!(ax23, low=-3, high=15); ylims!(ax23, low=-3, high=15)\n",
    "ax24 = plot_param(Axis(ga[2,4], xlabel=\"True β₄\", ylabel=\"Observed β₄\"), 8)\n",
    "xlims!(ax24, low=-3, high=11); ylims!(ax24, low=-3, high=11)\n",
    "\n",
    "rowgap!(ga, 7)\n",
    "colgap!(ga, 8)\n",
    "\n",
    "f"
   ]
  },
  {
   "cell_type": "code",
   "execution_count": 113,
   "id": "458663fe",
   "metadata": {},
   "outputs": [],
   "source": [
    "vec_ratios_f = Vector{Vector{Float64}}(undef, n_examples)\n",
    "\n",
    "for i in 1:n_examples\n",
    "    f1s = [get_burst_frequency_G1(m) for m in all_fits[i]]\n",
    "    f2s = [get_burst_frequency_G2M(m) for m in all_fits[i]]\n",
    "    vec_ratios_f[i] = f2s ./ f1s \n",
    "end\n",
    "\n",
    "vec_ratios_b = Vector{Vector{Float64}}(undef, n_examples)\n",
    "\n",
    "for i in 1:n_examples\n",
    "    b1s = [get_burst_size_G1(m, thetaG1) for m in all_fits[i]]\n",
    "    b2s = [get_burst_size_G2M(m, thetaG2M) for m in all_fits[i]]\n",
    "    vec_ratios_b[i] = b2s ./ b1s \n",
    "end"
   ]
  },
  {
   "cell_type": "code",
   "execution_count": null,
   "id": "6fc28d67",
   "metadata": {},
   "outputs": [],
   "source": [
    "ax31 = Axis(ga[3,2], xlabel=\"True Qf\", ylabel=\"Observed Qf\")\n",
    "\n",
    "x = ratio_f_th_dep[inds] \n",
    "y = median.(vec_ratios_f)\n",
    "y_Q1 = quantile.(vec_ratios_f, 0.25)\n",
    "y_Q3 = quantile.(vec_ratios_f, 0.75)\n",
    "y_err_Q1 = y .- y_Q1\n",
    "y_err_Q3 = y_Q3 .- y\n",
    "xi = 0; xf = 3.2\n",
    "\n",
    "errorbars!(ax31, x, y, y_err_Q1, y_err_Q3, whiskerwidth=3, linewidth=0.6, color=(c1, 0.4), direction=:y)\n",
    "scatter!(ax31, x, y, markersize=3, color=(c1, 0.7))\n",
    "lines!(ax31, xi:0.001:xf, xi:0.001:xf, color=(:black, 0.4), linestyle=:dash, linewidth=0.5)\n",
    "xlims!(ax31, 0, xf)\n",
    "ylims!(ax31, 0, xf)\n",
    "\n",
    "f"
   ]
  },
  {
   "cell_type": "code",
   "execution_count": null,
   "id": "1782a7e4",
   "metadata": {},
   "outputs": [],
   "source": [
    "ax32 = Axis(ga[3,3], xlabel=\"True Qb\", ylabel=\"Observed Qb\")\n",
    "\n",
    "x = ratio_b_th_dep[inds] \n",
    "y = median.(vec_ratios_b)\n",
    "y_Q1 = quantile.(vec_ratios_b, 0.25)\n",
    "y_Q3 = quantile.(vec_ratios_b, 0.75)\n",
    "y_err_Q1 = y .- y_Q1\n",
    "y_err_Q3 = y_Q3 .- y\n",
    "xi = 0; xf = 3.8\n",
    "\n",
    "errorbars!(ax32, x, y, y_err_Q1, y_err_Q3, whiskerwidth=3, linewidth=0.6, color=(c1, 0.4), direction=:y)\n",
    "scatter!(ax32, x, y, markersize=3, color=(c1, 0.7))\n",
    "lines!(ax32, xi:0.001:xf, xi:0.001:xf, color=(:black, 0.4), linestyle=:dash, linewidth=0.5)\n",
    "xlims!(ax32, 0, xf)\n",
    "ylims!(ax32, 0, xf)\n",
    "\n",
    "f"
   ]
  },
  {
   "cell_type": "code",
   "execution_count": null,
   "id": "880138dc",
   "metadata": {},
   "outputs": [],
   "source": [
    "rowgap!(ga, 7)\n",
    "f"
   ]
  }
 ],
 "metadata": {
  "kernelspec": {
   "display_name": "Julia 1.11.2",
   "language": "julia",
   "name": "julia-1.11"
  },
  "language_info": {
   "file_extension": ".jl",
   "mimetype": "application/julia",
   "name": "julia",
   "version": "1.11.2"
  }
 },
 "nbformat": 4,
 "nbformat_minor": 5
}
