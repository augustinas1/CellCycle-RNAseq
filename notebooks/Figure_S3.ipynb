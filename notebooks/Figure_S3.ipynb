{
 "cells": [
  {
   "cell_type": "markdown",
   "id": "8adc7eb2",
   "metadata": {},
   "source": [
    "# Figure S3: Alternative model with age-dependent burst size & variable replication timing"
   ]
  },
  {
   "cell_type": "code",
   "execution_count": null,
   "id": "05fbcd81-5a13-41a5-997b-98ecb43ffd2d",
   "metadata": {},
   "outputs": [],
   "source": [
    "include(\"../analysis/mESC/load_analysis.jl\")\n",
    "include(\"../analysis/mESC/filter_prior.jl\")\n",
    "\n",
    "srcpath = normpath(srcpath*\"../age-dependent/\")\n",
    "fitpath = normpath(datapath*\"fits_age-dependent/\")\n",
    "include(srcpath*\"dists.jl\")\n",
    "include(srcpath*\"mle.jl\")\n",
    "\n",
    "# fix the replication point to be in the middle of the S phase\n",
    "θᵣ = θ_G1_S + (θ_S_G2M - θ_G1_S)/2\n",
    "\n",
    "fits_main = load(fitpath*\"fits_main.jld2\", \"fits_main\");"
   ]
  },
  {
   "cell_type": "code",
   "execution_count": 449,
   "id": "2a0a8115",
   "metadata": {},
   "outputs": [],
   "source": [
    "# fix the transition point from early to late S phase to occur when the \n",
    "# minimum total mRNA count per cell in S is observed at cell age θₘ\n",
    "\n",
    "total_xS = vec(sum(hcat(xS...), dims=2))\n",
    "counts_S = [total_xS[_inds] for _inds in inds_θs_S]\n",
    "yS = mean.(counts_S)\n",
    "min_ind = findmin(yS)[2]\n",
    "θₘ = θs_S[min_ind]\n",
    "\n",
    "fits_alt1 = load(fitpath*\"fits_alt_1_10_params.jld2\", \"fits_alt1\");"
   ]
  },
  {
   "cell_type": "markdown",
   "id": "a01d5b91",
   "metadata": {},
   "source": [
    "Perform a series of filtering steps for the alternative age-dependent model and the main-text model, and recover an overlapping set of genes"
   ]
  },
  {
   "cell_type": "code",
   "execution_count": 450,
   "id": "04ad04d8",
   "metadata": {},
   "outputs": [],
   "source": [
    "# --- Step 1 ---\n",
    "\n",
    "# Remove all genes for which the predicted mean expression given by the alternative age-dependent model in either G1 or G2/M \n",
    "# cell cycle phase is negatively correlated with the cell age θ. Usually indicative of a bad model fit (due to larger \n",
    "# deviations from the ratio of 2 between the cells in θ_f and in θ_i).\n",
    "\n",
    "inds = Vector{Bool}(undef, ngenes)\n",
    "for i in 1:ngenes\n",
    "    mG1 = mean.(Ref(fits_alt1[i]), θs_G1, Ref(T_cycle), Ref(decay_rates[i]), Ref(θₘ), Ref(θ_G1_S), Ref(θ_S_G2M))\n",
    "    mG2M = mean.(Ref(fits_alt1[i]), θs_G2M, Ref(T_cycle), Ref(decay_rates[i]), Ref(θₘ), Ref(θ_G1_S), Ref(θ_S_G2M))\n",
    "    inds[i] = (cor(mG1, θs_G1) .> 0) .&& (cor(mG2M, θs_G2M) .> 0)\n",
    "end\n",
    "\n",
    "inds1 = findall(inds);"
   ]
  },
  {
   "cell_type": "code",
   "execution_count": 451,
   "id": "0952ea21",
   "metadata": {},
   "outputs": [],
   "source": [
    "# -- Step 2 ---\n",
    "# Remove genes that have a clearly bad fit -- indicated by a negative R^2 value either for the mean or variance over the entire cell cycle\n",
    "\n",
    "function compute_rsq_mean_alt1(ind::Int, m=fits_alt1[ind])\n",
    "    counts_G1 = [xG1[ind][_inds] for _inds in inds_θs_G1]\n",
    "    counts_S = [xS[ind][_inds] for _inds in inds_θs_S]\n",
    "    counts_G2M = [xG2M[ind][_inds] for _inds in inds_θs_G2M]\n",
    "\n",
    "    yG1 = mean.(counts_G1)\n",
    "    yS = mean.(counts_S)\n",
    "    yG2M = mean.(counts_G2M)\n",
    "    y = vcat(yG1, yS, yG2M)\n",
    "\n",
    "    ms = mean.(Ref(m), θs, Ref(T_cycle), Ref(decay_rates[ind]), Ref(θₘ), Ref(θ_G1_S), Ref(θ_S_G2M))\n",
    "    r2 = 1 - sum((y .- ms).^2) / sum((y.- mean(y)).^2)\n",
    "    r2\n",
    "end\n",
    "\n",
    "function compute_rsq_var_alt1(ind::Int, m=fits_alt1[ind])\n",
    "    counts_G1 = [xG1[ind][_inds] for _inds in inds_θs_G1]\n",
    "    counts_S = [xS[ind][_inds] for _inds in inds_θs_S]\n",
    "    counts_G2M = [xG2M[ind][_inds] for _inds in inds_θs_G2M]\n",
    "\n",
    "    yG1 = var.(counts_G1)\n",
    "    yS = var.(counts_S)\n",
    "    yG2M = var.(counts_G2M)\n",
    "    y = vcat(yG1, yS, yG2M)\n",
    "    \n",
    "    vars = var.(Ref(m), θs, Ref(T_cycle), Ref(decay_rates[ind]), Ref(θₘ), Ref(θ_G1_S), Ref(θ_S_G2M))\n",
    "    r2 = 1 - sum((y .- vars).^2) / sum((y.- mean(y)).^2)\n",
    "    r2\n",
    "end\n",
    "\n",
    "mean_rsqs_alt1 = compute_rsq_mean_alt1.(1:ngenes)\n",
    "var_rsqs_alt1 = compute_rsq_var_alt1.(1:ngenes)\n",
    "\n",
    "inds2 = findall(mean_rsqs_alt1 .> 0 .&& var_rsqs_alt1 .> 0);"
   ]
  },
  {
   "cell_type": "code",
   "execution_count": 452,
   "id": "0a869ae3",
   "metadata": {},
   "outputs": [],
   "source": [
    "# --- Step 3 ---\n",
    "# Remove genes with burst frequency tending to the upper parameter bound (leads to unrealistic burst parameter estimates)\n",
    "\n",
    "f1s = [m.f₁ for m in fits_alt1]\n",
    "f2s = [m.f₂ for m in fits_alt1]\n",
    "f3s = [m.f₃ for m in fits_alt1]\n",
    "inds3 = intersect(findall(f1s .< 100), findall(f2s .< 100), findall(f3s .< 100));"
   ]
  },
  {
   "cell_type": "code",
   "execution_count": 453,
   "id": "c2a179c2",
   "metadata": {},
   "outputs": [],
   "source": [
    "# --- Step 4 ---\n",
    "# Remove genes whose burst frequency or burst size ratios between the G2/M and G1 phases are extreme outliers\n",
    "\n",
    "burst_freqs_G1_alt1 = get_burst_frequency_G1.(fits_alt1)\n",
    "burst_freqs_G2M_alt1 = get_burst_frequency_G2M.(fits_alt1)\n",
    "burst_sizes_G1_alt1 = get_burst_size_G1.(fits_alt1, Ref(thetaG1))\n",
    "burst_sizes_G2M_alt1 = get_burst_size_G2M.(fits_alt1, Ref(thetaG2M))\n",
    "\n",
    "ratio_f_alt1 = burst_freqs_G2M_alt1 ./ burst_freqs_G1_alt1\n",
    "ratio_b_alt1 = burst_sizes_G2M_alt1 ./ burst_sizes_G1_alt1\n",
    "\n",
    "inds4 = findall(ratio_f_alt1 .< 10 .&& ratio_b_alt1 .< 10);"
   ]
  },
  {
   "cell_type": "code",
   "execution_count": null,
   "id": "02f839e0",
   "metadata": {},
   "outputs": [],
   "source": [
    "fits_alt1 = fits_alt1[intersect(inds1, inds2, inds3, inds4)]\n",
    "gene_names_alt1 = gene_names[intersect(inds1, inds2, inds3, inds4)]\n",
    "println(\"$(length(gene_names_alt1)) genes left after filtering for alt1 model.\");"
   ]
  },
  {
   "cell_type": "code",
   "execution_count": null,
   "id": "891185b6",
   "metadata": {},
   "outputs": [],
   "source": [
    "# perform filtering for the main model\n",
    "include(\"../analysis/mESC/filter_post.jl\")"
   ]
  },
  {
   "cell_type": "code",
   "execution_count": null,
   "id": "1c39f452",
   "metadata": {},
   "outputs": [],
   "source": [
    "inds = findall(in(gene_names_alt1), gene_names)\n",
    "_inds = findall(in(gene_names), gene_names_alt1)\n",
    "fits_alt1 = fits_alt1[_inds]\n",
    "\n",
    "xG1 = xG1[inds]\n",
    "xS = xS[inds]\n",
    "xG2M = xG2M[inds]\n",
    "\n",
    "counts_spliced = counts_spliced[inds]\n",
    "gene_names = gene_names[inds]\n",
    "decay_rates = decay_rates[inds]\n",
    "\n",
    "G1_th_ind_fits = G1_th_ind_fits[inds]\n",
    "G2M_th_ind_fits = G2M_th_ind_fits[inds]\n",
    "fits_main = fits_main[inds]\n",
    "\n",
    "ndiff = ngenes - length(inds)\n",
    "ngenes = length(inds)\n",
    "\n",
    "println(\"Removed $ndiff genes that did not overlap between the filtered gene sets.\")\n",
    "println(\"$ngenes genes left remaining.\");"
   ]
  },
  {
   "cell_type": "code",
   "execution_count": 457,
   "id": "8c5d483c",
   "metadata": {},
   "outputs": [],
   "source": [
    "burst_freqs_G1_alt1 = get_burst_frequency_G1.(fits_alt1)\n",
    "burst_freqs_G2M_alt1 = get_burst_frequency_G2M.(fits_alt1)\n",
    "burst_sizes_G1_alt1 = get_burst_size_G1.(fits_alt1, Ref(thetaG1))\n",
    "burst_sizes_G2M_alt1 = get_burst_size_G2M.(fits_alt1, Ref(thetaG2M));"
   ]
  },
  {
   "cell_type": "code",
   "execution_count": 458,
   "id": "b5447ff2",
   "metadata": {},
   "outputs": [],
   "source": [
    "burst_freqs_G1_main = get_burst_frequency_G1.(fits_main)\n",
    "burst_freqs_G2M_main = get_burst_frequency_G2M.(fits_main)\n",
    "burst_sizes_G1_main = get_burst_size_G1.(fits_main, Ref(thetaG1))\n",
    "burst_sizes_G2M_main = get_burst_size_G2M.(fits_main, Ref(thetaG2M));"
   ]
  },
  {
   "cell_type": "code",
   "execution_count": 459,
   "id": "309c3b8e",
   "metadata": {},
   "outputs": [],
   "source": [
    "ratio_f_G1 = burst_freqs_G1_alt1 ./ burst_freqs_G1_main\n",
    "ratio_f_G2M = burst_freqs_G2M_alt1 ./ burst_freqs_G2M_main\n",
    "ratio_b_G1 = burst_sizes_G1_alt1 ./ burst_sizes_G1_main\n",
    "ratio_b_G2M = burst_sizes_G2M_alt1 ./ burst_sizes_G2M_main;"
   ]
  },
  {
   "cell_type": "code",
   "execution_count": null,
   "id": "0e8538a2",
   "metadata": {},
   "outputs": [],
   "source": [
    "f = Figure(size = (size_pt[1]*0.9, size_pt[2]*1.7), figure_padding = 1)\n",
    "ga = f[1,1] = GridLayout()\n",
    "\n",
    "y1 = ratio_f_G1; x1 = fill(\"G1\", length(y1))\n",
    "y2 = ratio_f_G2M; x2 = fill(\"G2/M\", length(y2))\n",
    "ax1 = Axis(ga[1,1], xlabel=\"Burst frequency ratio\", ylabel=\"\", yticks=(1:2, [\"G1\", \"G2/M\"]))\n",
    "rainclouds!(ax1, vcat(x1, x2), vcat(y1, y2), gap=-0.7,\n",
    "            orientation = :horizontal,\n",
    "            color = vcat(fill(c1, length(y1)), fill(c2, length(y2))),\n",
    "            cloud_width=0.9, show_median=false, violin_limits=(-Inf, Inf), clouds=violin,\n",
    "            boxplot_width=0.1, boxplot_nudge=0.0, strokewidth = 0.7, whiskerwidth=0,\n",
    "            jitter_width=0.2, markersize=1.3, side_nudge=0.12)\n",
    "vlines!(1, color=(:black, 0.4), linestyle=:dash)\n",
    "xlims!(0.0, 4.0)\n",
    "\n",
    "y1 = ratio_b_G1; x1 = fill(\"G1\", length(y1))\n",
    "y2 = ratio_b_G2M; x2 = fill(\"G2/M\", length(y2))\n",
    "ax2 = Axis(ga[2,1], xlabel=\"Burst size ratio\", ylabel=\"\", yticks=(1:2, [\"G1\", \"G2/M\"]), xticks=(0:0.5:2.0, [\"0\", \"0.5\", \"1.0\", \"1.5\", \"2\"]))\n",
    "rainclouds!(ax2, vcat(x1, x2), vcat(y1, y2), gap=-0.4,\n",
    "            orientation = :horizontal,\n",
    "            color = vcat(fill(c1, length(y1)), fill(c2, length(y2))),\n",
    "            cloud_width=0.9, show_median=false, violin_limits=(-Inf, Inf), clouds=violin,\n",
    "            boxplot_width=0.1, boxplot_nudge=0.0, strokewidth = 0.7, whiskerwidth=0,\n",
    "            jitter_width=0.2, markersize=1.3, side_nudge=0.12)\n",
    "vlines!(1, color=(:black, 0.4), linestyle=:dash)\n",
    "xlims!(0.0, 1.8)\n",
    "\n",
    "rowgap!(ga, 7)\n",
    "f"
   ]
  },
  {
   "cell_type": "code",
   "execution_count": 463,
   "id": "fd81985c",
   "metadata": {},
   "outputs": [],
   "source": [
    "ratio_f_main = burst_freqs_G2M_main ./ burst_freqs_G1_main\n",
    "ratio_b_main = burst_sizes_G2M_main ./ burst_sizes_G1_main\n",
    "ratio_f_alt1 = burst_freqs_G2M_alt1 ./ burst_freqs_G1_alt1\n",
    "ratio_b_alt1 = burst_sizes_G2M_alt1 ./ burst_sizes_G1_alt1;"
   ]
  },
  {
   "cell_type": "code",
   "execution_count": null,
   "id": "9cd3b6fc",
   "metadata": {},
   "outputs": [],
   "source": [
    "@show median(ratio_f_main)\n",
    "@show quantile(ratio_f_main, 0.25)\n",
    "@show quantile(ratio_f_main, 0.75);"
   ]
  },
  {
   "cell_type": "code",
   "execution_count": null,
   "id": "11d665d4",
   "metadata": {},
   "outputs": [],
   "source": [
    "@show median(ratio_f_alt1)\n",
    "@show quantile(ratio_f_alt1, 0.25)\n",
    "@show quantile(ratio_f_alt1, 0.75);"
   ]
  },
  {
   "cell_type": "code",
   "execution_count": null,
   "id": "5ec419a8",
   "metadata": {},
   "outputs": [],
   "source": [
    "@show median(ratio_b_main)\n",
    "@show quantile(ratio_b_main, 0.25)\n",
    "@show quantile(ratio_b_main, 0.75);"
   ]
  },
  {
   "cell_type": "code",
   "execution_count": null,
   "id": "c2d2a812",
   "metadata": {},
   "outputs": [],
   "source": [
    "@show median(ratio_b_alt1)\n",
    "@show quantile(ratio_b_alt1, 0.25)\n",
    "@show quantile(ratio_b_alt1, 0.75);"
   ]
  },
  {
   "cell_type": "code",
   "execution_count": 468,
   "id": "0b2fb13a",
   "metadata": {},
   "outputs": [],
   "source": [
    "x = ratio_f_alt1\n",
    "y = ratio_b_alt1\n",
    "f = Figure(size = (size_pt[1]*1.1, size_pt[2]*1.2), figure_padding = 1)\n",
    "\n",
    "ga = f[1, 1] = GridLayout()\n",
    "axtop = Axis(ga[1, 1], \n",
    "             leftspinevisible = false,\n",
    "             rightspinevisible = false,\n",
    "             bottomspinevisible = false,\n",
    "             topspinevisible = false)\n",
    "axmain = Axis(ga[2, 1], xlabel = \"\", ylabel = \"\",\n",
    "              yminorticks = IntervalsBetween(2),\n",
    "              yminorticksvisible = true,\n",
    "              yminorticksize = 1.5,\n",
    "              yminortickwidth = 0.7,\n",
    "              xticksmirrored = true,\n",
    "              yticksmirrored = true,\n",
    "              rightspinecolor = (c1, 1),\n",
    "              topspinecolor = (c2, 1))\n",
    "axright = Axis(ga[2, 2],\n",
    "               leftspinevisible = false,\n",
    "               rightspinevisible = false,\n",
    "               bottomspinevisible = false,\n",
    "               topspinevisible = false)\n",
    "\n",
    "linkyaxes!(axmain, axright)\n",
    "linkxaxes!(axmain, axtop)\n",
    "\n",
    "hidedecorations!(axtop, grid = false)\n",
    "hidedecorations!(axright, grid = false)\n",
    "scatter!(axmain, x, y, color=(:gray, 0.4), markersize=2)\n",
    "vlines!(axmain, 1, color=(:black, 0.4), linestyle=:dash)\n",
    "hlines!(axmain, 1, color=(:black, 0.4), linestyle=:dash)\n",
    "xlims!(axmain, low = 0, high = 2.0)\n",
    "\n",
    "density!(axtop, x, color=(c2), npoints=1000)\n",
    "density!(axtop, ratio_f_main, color=(c2, 0.2), npoints=1000, strokewidth=0.1)\n",
    "hlines!(axtop, 0, color=(:black, 0.3), linewidth=0.3)\n",
    "boxplot!(axtop, fill(0.0, length(x)), x, orientation=:horizontal, strokewidth = 0.7, \n",
    "         width=0.7, whiskerwidth=0, show_outliers=false, color=(c2, 0))\n",
    "ylims!(axtop, low=-0.4, high=3.2)\n",
    "\n",
    "density!(axright, y, direction = :y, color=(c1), npoints=1000)\n",
    "density!(axright, ratio_b_main, direction = :y, color=(c1, 0.2), npoints=1000)\n",
    "vlines!(axright, 0, color=(:black, 0.3), linewidth=0.3)\n",
    "boxplot!(axright, fill(0.0, length(y)), y, strokewidth = 0.7, \n",
    "         width=0.5, whiskerwidth=0, show_outliers=false, color=(c1, 0))\n",
    "ylims!(axright, low=0, high=3.0)\n",
    "xlims!(axright, low=-0.4, high=3.2)\n",
    "\n",
    "colgap!(ga, 2)\n",
    "rowgap!(ga, 2)\n",
    "colsize!(ga, 2, Relative(1.2/3))\n",
    "rowsize!(ga, 1, Relative(1.2/3))"
   ]
  },
  {
   "cell_type": "code",
   "execution_count": null,
   "id": "247942c3",
   "metadata": {},
   "outputs": [],
   "source": [
    "f"
   ]
  },
  {
   "cell_type": "code",
   "execution_count": null,
   "id": "b44b655d",
   "metadata": {},
   "outputs": [],
   "source": [
    "cor(ratio_f_main, ratio_b_main)"
   ]
  },
  {
   "cell_type": "code",
   "execution_count": null,
   "id": "8342d3f0",
   "metadata": {},
   "outputs": [],
   "source": [
    "cor(ratio_f_alt1, ratio_b_alt1)"
   ]
  },
  {
   "cell_type": "code",
   "execution_count": 472,
   "id": "6a0acb90",
   "metadata": {},
   "outputs": [],
   "source": [
    "burst_freqs_G1_th_ind = get_burst_frequency.(G1_th_ind_fits) .* decay_rates\n",
    "burst_freqs_G2M_th_ind = get_burst_frequency.(G2M_th_ind_fits) .* decay_rates\n",
    "burst_sizes_G1_th_ind = get_burst_size.(G1_th_ind_fits)\n",
    "burst_sizes_G2M_th_ind = get_burst_size.(G2M_th_ind_fits)\n",
    "\n",
    "ratio_f_th_ind = burst_freqs_G2M_th_ind ./ burst_freqs_G1_th_ind\n",
    "ratio_b_th_ind = burst_sizes_G2M_th_ind ./ burst_sizes_G1_th_ind;"
   ]
  },
  {
   "cell_type": "code",
   "execution_count": null,
   "id": "44a0f844",
   "metadata": {},
   "outputs": [],
   "source": [
    "cor(ratio_f_th_ind, ratio_b_th_ind)"
   ]
  }
 ],
 "metadata": {
  "kernelspec": {
   "display_name": "Julia 1.11.2",
   "language": "julia",
   "name": "julia-1.11"
  },
  "language_info": {
   "file_extension": ".jl",
   "mimetype": "application/julia",
   "name": "julia",
   "version": "1.11.2"
  }
 },
 "nbformat": 4,
 "nbformat_minor": 5
}
