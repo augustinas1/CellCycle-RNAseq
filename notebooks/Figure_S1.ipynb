{
 "cells": [
  {
   "cell_type": "markdown",
   "id": "40024792",
   "metadata": {},
   "source": [
    "# Figure S1: Validation of steady-state model selection"
   ]
  },
  {
   "cell_type": "code",
   "execution_count": null,
   "id": "05fbcd81-5a13-41a5-997b-98ecb43ffd2d",
   "metadata": {},
   "outputs": [],
   "source": [
    "include(\"../analysis/mESC/load_analysis.jl\");"
   ]
  },
  {
   "cell_type": "code",
   "execution_count": 18,
   "id": "ae5ec4bb",
   "metadata": {},
   "outputs": [],
   "source": [
    "@load fitpath*\"BIC_res_Poisson.jld2\" res_Poisson\n",
    "@load fitpath*\"BIC_res_ZIPoisson.jld2\" res_ZIPoisson\n",
    "@load fitpath*\"BIC_res_NB.jld2\" res_NB\n",
    "@load fitpath*\"BIC_res_BP.jld2\" dists_BP res_BP;"
   ]
  },
  {
   "cell_type": "code",
   "execution_count": null,
   "id": "b9d131e3",
   "metadata": {},
   "outputs": [],
   "source": [
    "f = Figure(size = (size_pt[1]*2.9, size_pt[2]*3.0), figure_padding=3)\n",
    "ga = f[1,1] = GridLayout()\n",
    "\n",
    "ax11 = Axis(ga[1, 1],\n",
    "            title = \"Poisson\",\n",
    "            xlabel=\"Fraction\",\n",
    "            yticks=(1:6, [\"Poisson\", \"ZIPoisson\", \"NB\", \"ZINB\", \"Telegraph\", \"ZI-Telegraph\"]))\n",
    "barplot!(ax11, [sum(res_Poisson .== i)/length(res_Poisson) for i in 1:6], direction=:x, color=c1)\n",
    "vlines!(ax11, [0], color=:gray)\n",
    "\n",
    "ax12 = Axis(ga[1, 2],\n",
    "            title = \"ZIPoisson\",\n",
    "            xlabel=\"Fraction\",\n",
    "            yticks=(1:6, [\"Poisson\", \"ZIPoisson\", \"NB\", \"ZINB\", \"Telegraph\", \"ZI-Telegraph\"]))\n",
    "barplot!(ax12, [sum(res_ZIPoisson .== i)/length(res_ZIPoisson) for i in 1:6], direction=:x, color=c1)\n",
    "vlines!(ax12, [0], color=:gray)\n",
    "\n",
    "ax13 = Axis(ga[1, 3],\n",
    "            title = \"NB\",\n",
    "            xlabel=\"Fraction\",\n",
    "            yticks=(1:6, [\"Poisson\", \"ZIPoisson\", \"NB\", \"ZINB\",  \"Telegraph\", \"ZI-Telegraph\"]))\n",
    "barplot!(ax13, [sum(res_NB .== i)/length(res_NB) for i in 1:6], direction=:x, color=c1)\n",
    "vlines!(ax13, [0], color=:gray)\n",
    "\n",
    "colgap!(ga, 12)\n",
    "\n",
    "ax = Axis(ga[2, 1:2], alignmode = Outside(20),\n",
    "          ylabel=\"Fraction\",\n",
    "          xlabel=\"σ₁\",\n",
    "          xscale=log10,\n",
    "          yticksmirrored=true,\n",
    "          yticks=(0:0.25:1, [\"0\", \"0.25\", \"0.5\", \"0.75\", \"1\"]))\n",
    "\n",
    "ys_low = zeros(100)\n",
    "labels = [\"Poisson\", \"ZIPoisson\", \"NB\", \"ZINB\", \"Telegraph\", \"ZI-Telegraph\"]\n",
    "all_σ_on = exp10.(range(-2, 2, length=100))\n",
    "\n",
    "for i in 1:5\n",
    "    ys_high = ys_low .+ [res[i] for res in res_BP_extra] ./ 100\n",
    "    band!(ax, all_σ_on, ys_low, ys_high, label=labels[i])\n",
    "    ys_low = ys_high\n",
    "end\n",
    "\n",
    "lines!(ax, all_σ_on, all_σ_on ./ (1 .+ all_σ_on), color=(:purple, 0.4), linewidth=1.5)\n",
    "\n",
    "xlims!(ax, 1e-2, 1e2)\n",
    "ylims!(ax, -0.005, 1.005)\n",
    "Legend(ga[2,3], ax, framevisible = false)\n",
    "\n",
    "colsize!(ga, 1, Relative(1/3))\n",
    "colsize!(ga, 2, Relative(1/3))\n",
    "colsize!(ga, 3, Relative(1/3))\n",
    "rowsize!(ga, 2, Relative(2/3))\n",
    "rowgap!(ga, 10)\n",
    "\n",
    "f"
   ]
  }
 ],
 "metadata": {
  "kernelspec": {
   "display_name": "Julia 1.11.2",
   "language": "julia",
   "name": "julia-1.11"
  },
  "language_info": {
   "file_extension": ".jl",
   "mimetype": "application/julia",
   "name": "julia",
   "version": "1.11.2"
  }
 },
 "nbformat": 4,
 "nbformat_minor": 5
}
