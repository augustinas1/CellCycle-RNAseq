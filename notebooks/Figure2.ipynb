{
 "cells": [
  {
   "cell_type": "code",
   "execution_count": null,
   "id": "8dcf0411-6153-4b72-b52b-d64dfefffb69",
   "metadata": {
    "slideshow": {
     "slide_type": ""
    },
    "tags": []
   },
   "outputs": [],
   "source": [
    "include(\"../analysis/mESC/load_analysis.jl\");"
   ]
  },
  {
   "cell_type": "code",
   "execution_count": null,
   "id": "5871e4c1-f9d6-408f-81c8-99b14fabf6c3",
   "metadata": {},
   "outputs": [],
   "source": [
    "median(means_ratio)"
   ]
  },
  {
   "cell_type": "markdown",
   "id": "c72929b4-126a-4831-9a7f-7a3388198f21",
   "metadata": {},
   "source": [
    "# Fig. 2A: Mean expression"
   ]
  },
  {
   "cell_type": "code",
   "execution_count": null,
   "id": "7bd50429-70db-4575-8e2b-7362ccd232f6",
   "metadata": {},
   "outputs": [],
   "source": [
    "means_G1 = mean.(xG1)\n",
    "means_G2M = mean.(xG2M)\n",
    "means_ratio = means_G2M ./ means_G1;"
   ]
  },
  {
   "cell_type": "code",
   "execution_count": null,
   "id": "56ca3681-318b-4811-8f56-0cb104c95670",
   "metadata": {},
   "outputs": [],
   "source": [
    "median(means_ratio)"
   ]
  },
  {
   "cell_type": "code",
   "execution_count": null,
   "id": "cb8522ce-ad98-4f56-b690-59dbc34147a0",
   "metadata": {},
   "outputs": [],
   "source": [
    "quantile(means_ratio, 0.25)"
   ]
  },
  {
   "cell_type": "code",
   "execution_count": null,
   "id": "0d487548-7890-473d-bf54-a7912002cb66",
   "metadata": {},
   "outputs": [],
   "source": [
    "quantile(means_ratio, 0.75)"
   ]
  },
  {
   "cell_type": "code",
   "execution_count": null,
   "id": "75f439fd-52cb-42e5-a7ca-2e3ee102eb80",
   "metadata": {},
   "outputs": [],
   "source": [
    "function stairpts(s)\n",
    "    pts = s.plots[1].converted[1][]\n",
    "    [p[1] for p in pts], [p[2] for p in pts]\n",
    "end"
   ]
  },
  {
   "cell_type": "code",
   "execution_count": null,
   "id": "1acfbdc8-4713-4f5e-b417-10412bedfb57",
   "metadata": {
    "editable": true,
    "slideshow": {
     "slide_type": ""
    },
    "tags": []
   },
   "outputs": [],
   "source": [
    "f = Figure(resolution = (size_pt[1]*0.9, size_pt[2]*0.9), figure_padding = 1)\n",
    "ax = Axis(f[1,1], xlabel=\"Ratio of means Λ\", ylabel=\"Probability\")\n",
    "\n",
    "rmax = ceil(maximum(means_ratio), digits=1)\n",
    "dr = 0.05\n",
    "rs = 0:dr:rmax\n",
    "ws = fit(Histogram, means_ratio, vcat(rs, rmax+dr), closed=:right)\n",
    "ws = normalize(ws, mode=:probability)\n",
    "ws = ProbabilityWeights(ws.weights)\n",
    "\n",
    "ylims!(0, nothing)\n",
    "xlims!(0.5, 2.5)\n",
    "\n",
    "s = stairs!(ax, rs, ws, step=:post, color=(c1, 1), linewidth=0)\n",
    "\n",
    "xs′, ys′ = stairpts(s)\n",
    "band!(ax, xs′, 0*ys′, ys′, color=(c1, 1), label=\"Data\")\n",
    "vlines!(ax, 1, linewidth=1, color=(c3, 1), linestyle=:dash)\n",
    "vlines!(ax, 2, linewidth=1, color=(c3, 1), linestyle=:dash)"
   ]
  },
  {
   "cell_type": "code",
   "execution_count": null,
   "id": "c1beb4b7-f70e-4081-b053-64cf439dace3",
   "metadata": {},
   "outputs": [],
   "source": [
    "f"
   ]
  },
  {
   "cell_type": "code",
   "execution_count": null,
   "id": "8caf76c9-3aec-4bcd-b6c8-6bd317c19728",
   "metadata": {},
   "outputs": [],
   "source": [
    "#save(\"../data/mESC/figures/2A_ratio_means.pdf\", f, pt_per_unit = 1);"
   ]
  },
  {
   "cell_type": "markdown",
   "id": "7d04ce41-3ffd-49f5-b914-b8fab03753db",
   "metadata": {
    "editable": true,
    "slideshow": {
     "slide_type": ""
    },
    "tags": []
   },
   "source": [
    "# Fig. 2B: Cartoon"
   ]
  },
  {
   "cell_type": "code",
   "execution_count": null,
   "id": "37dd19ee-127e-48de-950c-347697463a71",
   "metadata": {},
   "outputs": [],
   "source": [
    "function plot_fit_new(f::GridPosition, xdata::AbstractArray, d::Distribution, nconv::Int; kwargs...)\n",
    "    ax = Axis(f, \n",
    "          xlabel=\"Counts\", ylabel=\"Probability\", kwargs...)\n",
    "    xs, ww = fit_hist(xdata)\n",
    "    ww = ww ./ ww.sum\n",
    "    \n",
    "    ylims!(0, nothing)\n",
    "    xlims!(-0.8, xs[end]+0.8)\n",
    "    \n",
    "    s = stairs!(ax, vcat(-1, xs, xs[end]+1), vcat(0, ww, 0), \n",
    "               step=:center, color=(c1, 1), linewidth=0)\n",
    "\n",
    "    xs′, ys′ = stairpts(s)\n",
    "    band!(ax, xs′, 0*ys′, ys′, color=(colorant\"#d0d0d1\", 1), label=\"Data\")\n",
    "    vlines!(ax, mean(xdata), linewidth=1, color=(c3, 0.8))\n",
    "    lines!(ax, xs, convn(pdf.(d, xs), nconv), markersize=2, color=(c1, 1), linewidth=1, label=\"MLE fit\")\n",
    "    ax\n",
    "end\n",
    "\n",
    "function plot_fit_new(xdata::AbstractArray, d::Distribution, nconv::Int; kwargs...)\n",
    "    f = Figure(resolution = (size_pt[1]*0.65, size_pt[2]*0.7), figure_padding = 3)\n",
    "    plot_fit_new(f[1,1], xdata, d, nconv, kwargs...)\n",
    "    f\n",
    "end"
   ]
  },
  {
   "cell_type": "code",
   "execution_count": null,
   "id": "e8573ef9-669e-4d43-bc3f-a643c91079ac",
   "metadata": {},
   "outputs": [],
   "source": [
    "ind = findfirst(gene_names .== \"Nme1\")"
   ]
  },
  {
   "cell_type": "code",
   "execution_count": null,
   "id": "9b8715f3-f512-4d83-92b5-8a8a6b8fc7b2",
   "metadata": {},
   "outputs": [],
   "source": [
    "d = G1_th_ind_fits[ind]\n",
    "x = thetaG1\n",
    "nconv=2\n",
    "y = xG1[ind];"
   ]
  },
  {
   "cell_type": "code",
   "execution_count": null,
   "id": "72fea7ad-26c4-4c79-84a4-50aa30b3c745",
   "metadata": {},
   "outputs": [],
   "source": [
    "plot_fit_new(y, d, nconv)"
   ]
  },
  {
   "cell_type": "code",
   "execution_count": null,
   "id": "aaad6a5f-8ad6-4a1a-91f4-8bfd3606bc70",
   "metadata": {},
   "outputs": [],
   "source": [
    "f = Figure(resolution = (size_pt[1]*0.55, size_pt[2]*0.95), figure_padding = 1)\n",
    "ga = f[1,1] = GridLayout()\n",
    "\n",
    "xlim = 85\n",
    "y = xG1[ind]\n",
    "nconv = 2\n",
    "d = G1_th_ind_fits[ind]\n",
    "\n",
    "ax1 = plot_fit_new(ga[1,1], y, d, nconv)\n",
    "ax1.xlabel = \"\"\n",
    "ax1.xticklabelsvisible = false\n",
    "xlims!(ax1, (0, xlim))\n",
    "\n",
    "y = xG2M[ind]\n",
    "nconv=4\n",
    "d = G2M_th_ind_fits[ind]\n",
    "\n",
    "ax2 = plot_fit_new(ga[2,1], y, d, nconv)\n",
    "ax2.ylabel = \"\"\n",
    "xlims!(ax2, (0, xlim))\n",
    "\n",
    "rowgap!(ga, 5)\n",
    "\n",
    "f"
   ]
  },
  {
   "cell_type": "code",
   "execution_count": null,
   "id": "eef948db-4c18-4ce9-ab83-2516dd65133f",
   "metadata": {},
   "outputs": [],
   "source": [
    "#save(\"../data/mESC/figures/2B_dists.pdf\", f, pt_per_unit = 1);"
   ]
  },
  {
   "cell_type": "markdown",
   "id": "c07e5c80-2982-4894-aa18-174b81443749",
   "metadata": {},
   "source": [
    "# Fig. 2C: example ratios + CIs"
   ]
  },
  {
   "cell_type": "code",
   "execution_count": null,
   "id": "f2b4f765-fccf-4870-a11a-6417133961f5",
   "metadata": {},
   "outputs": [],
   "source": [
    "burst_freqs_G1_th_ind = get_burst_frequency.(G1_th_ind_fits)\n",
    "burst_freqs_G2M_th_ind = get_burst_frequency.(G2M_th_ind_fits);"
   ]
  },
  {
   "cell_type": "code",
   "execution_count": null,
   "id": "e02dd272-086a-4fd7-b8f5-be8bdd7b777f",
   "metadata": {},
   "outputs": [],
   "source": [
    "burst_sizes_G1_th_ind = get_burst_size.(G1_th_ind_fits)\n",
    "burst_sizes_G2M_th_ind = get_burst_size.(G2M_th_ind_fits);"
   ]
  },
  {
   "cell_type": "code",
   "execution_count": null,
   "id": "a74cae28-4647-4c3c-ae15-7a3ec2801378",
   "metadata": {
    "editable": true,
    "slideshow": {
     "slide_type": ""
    },
    "tags": []
   },
   "outputs": [],
   "source": [
    "ratio_f = burst_freqs_G2M_th_ind ./ burst_freqs_G1_th_ind\n",
    "ratio_b = burst_sizes_G2M_th_ind ./ burst_sizes_G1_th_ind;"
   ]
  },
  {
   "cell_type": "code",
   "execution_count": null,
   "id": "a28b2ca7-98fa-4ee4-be89-c45751fd6c29",
   "metadata": {},
   "outputs": [],
   "source": [
    "genes = [\"Avpi1\", \"Rpl7\", \"Akap9\", \"Smc1a\", \"Cobl\"]\n",
    "inds = [findfirst(gene_names .== gene) for gene in genes];"
   ]
  },
  {
   "cell_type": "code",
   "execution_count": null,
   "id": "d46c770c-5358-436e-8b40-2c7abb4e9ff4",
   "metadata": {},
   "outputs": [],
   "source": [
    "println(means_ratio[inds])"
   ]
  },
  {
   "cell_type": "code",
   "execution_count": null,
   "id": "ce16e537-23f1-428c-b624-1d207634d8a3",
   "metadata": {},
   "outputs": [],
   "source": [
    "CI_ratio_f = @time get_ratio_confidence_intervals(G1_th_ind_fits[inds], xG1[inds], nothing, 2,\n",
    "                                                  G2M_th_ind_fits[inds], xG2M[inds], nothing, 4,\n",
    "                                                  get_burst_frequency_ratio_CI_PL, time_limit=60.0)"
   ]
  },
  {
   "cell_type": "code",
   "execution_count": null,
   "id": "d024c73c-ae74-49ec-817f-aa5714218513",
   "metadata": {},
   "outputs": [],
   "source": [
    "CI_ratio_b = @time get_ratio_confidence_intervals(G1_th_ind_fits[inds], xG1[inds], nothing, 2,\n",
    "                                                  G2M_th_ind_fits[inds], xG2M[inds], nothing, 4,\n",
    "                                                  get_burst_size_ratio_CI_PL, time_limit=60.0)"
   ]
  },
  {
   "cell_type": "code",
   "execution_count": null,
   "id": "b7cb5347-e5f9-42eb-9d3a-e810565e8718",
   "metadata": {},
   "outputs": [],
   "source": [
    "f = Figure(resolution = (size_pt[1]*0.9, size_pt[2]*1.35), figure_padding = 1)\n",
    "ga = f[1,1] = GridLayout()\n",
    "\n",
    "ax = Axis(ga[1,1],\n",
    "          xlabel=\"\", ylabel=\"Burst frequency ratio\", xticklabelsvisible=false)\n",
    "x = 1:length(genes)\n",
    "ax.xticks = (x, genes)\n",
    "\n",
    "y = ratio_f[inds]\n",
    "y_lb = first.(CI_ratio_f)\n",
    "y_ub = last.(CI_ratio_f)\n",
    "scatter!(ax, x, y, markersize=7, color=c2)\n",
    "errorbars!(ax, x, y, y .- y_lb, y_ub .- y, whiskerwidth=5, color=c2)\n",
    "hlines!(ax, 1, color=(:black, 0.5), linestyle=:dash)\n",
    "ylims!(ax, (0.3, 1.4))\n",
    "\n",
    "ax = Axis(ga[2,1],\n",
    "          xlabel=\"\", ylabel=\"Burst size ratio\")\n",
    "x = 1:length(genes)\n",
    "ax.xticks = (x, genes)\n",
    "\n",
    "y = ratio_b[inds]\n",
    "y_lb = first.(CI_ratio_b)\n",
    "y_ub = last.(CI_ratio_b)\n",
    "scatter!(ax, x, y, markersize=7, color=c1)\n",
    "errorbars!(ax, x, y, y .- y_lb, y_ub .- y, whiskerwidth=5, color=c1)\n",
    "hlines!(ax, 1, color=(:black, 0.5), linestyle=:dash)\n",
    "\n",
    "rowgap!(ga, 3)"
   ]
  },
  {
   "cell_type": "code",
   "execution_count": null,
   "id": "badc2642-3176-449d-ad1b-7587ca75b8f8",
   "metadata": {},
   "outputs": [],
   "source": [
    "f"
   ]
  },
  {
   "cell_type": "code",
   "execution_count": null,
   "id": "2485c1d4-6cf4-415f-8cc1-e5af63f8a40e",
   "metadata": {},
   "outputs": [],
   "source": [
    "#save(\"../data/mESC/figures/2C_CI_ratios.pdf\", f, pt_per_unit = 1);"
   ]
  },
  {
   "cell_type": "markdown",
   "id": "e2366a3f-ac04-4805-8230-e83f38f946a1",
   "metadata": {},
   "source": [
    "# Fig. 2D: raincloud plots of ratios"
   ]
  },
  {
   "cell_type": "code",
   "execution_count": null,
   "id": "1e2dbdcc-15ca-4571-a8a5-38c806cac399",
   "metadata": {},
   "outputs": [],
   "source": [
    "@show median(ratio_f)\n",
    "@show quantile(ratio_f, 0.25)\n",
    "@show quantile(ratio_f, 0.75);"
   ]
  },
  {
   "cell_type": "code",
   "execution_count": null,
   "id": "9eb4bdae-bd1a-4c7a-aa36-04d7c498e1f2",
   "metadata": {},
   "outputs": [],
   "source": [
    "@show median(ratio_b)\n",
    "@show quantile(ratio_b, 0.25)\n",
    "@show quantile(ratio_b, 0.75);"
   ]
  },
  {
   "cell_type": "code",
   "execution_count": null,
   "id": "932577c0-8246-4f75-bdbb-1820b15aa849",
   "metadata": {},
   "outputs": [],
   "source": [
    "x = ratio_f\n",
    "y = ratio_b\n",
    "f = Figure(resolution = (size_pt[1]*1.1, size_pt[2]*1.2), figure_padding = 1)\n",
    "\n",
    "ga = f[1, 1] = GridLayout()\n",
    "axtop = Axis(ga[1, 1], \n",
    "             leftspinevisible = false,\n",
    "             rightspinevisible = false,\n",
    "             bottomspinevisible = false,\n",
    "             topspinevisible = false)\n",
    "axmain = Axis(ga[2, 1], xlabel = \"\", ylabel = \"\",\n",
    "              yminorticks = IntervalsBetween(2),\n",
    "              yminorticksvisible = true,\n",
    "              yminorticksize = 1.5,\n",
    "              yminortickwidth = 0.7,\n",
    "              xticksmirrored = true,\n",
    "              yticksmirrored = true,\n",
    "              rightspinecolor = (c1, 1),\n",
    "              topspinecolor = (c2, 1))\n",
    "axright = Axis(ga[2, 2],\n",
    "               leftspinevisible = false,\n",
    "               rightspinevisible = false,\n",
    "               bottomspinevisible = false,\n",
    "               topspinevisible = false)\n",
    "\n",
    "linkyaxes!(axmain, axright)\n",
    "linkxaxes!(axmain, axtop)\n",
    "\n",
    "hidedecorations!(axtop, grid = false)\n",
    "hidedecorations!(axright, grid = false)\n",
    "scatter!(axmain, x, y, color=(:gray, 0.4), markersize=2)\n",
    "vlines!(axmain, 1, color=(:black, 0.5), linestyle=:dash)\n",
    "hlines!(axmain, 1, color=(:black, 0.5), linestyle=:dash)\n",
    "xlims!(axmain, low = 0, high = 1.2)\n",
    "\n",
    "density!(axtop, x, color=(c2))\n",
    "hlines!(axtop, 0, color=(:black, 0.3), linewidth=0.3)\n",
    "boxplot!(axtop, fill(0.0, length(x)), x, orientation=:horizontal, strokewidth = 0.7, \n",
    "         width=0.7, whiskerwidth=0, show_outliers=false, color=(c2, 0))\n",
    "ylims!(axtop, low=-0.4, high=4.7)\n",
    "\n",
    "density!(axright, y, direction = :y, color=(c1))\n",
    "vlines!(axright, 0, color=(:black, 0.3), linewidth=0.3)\n",
    "boxplot!(axright, fill(0.0, length(y)), y, strokewidth = 0.7, \n",
    "         width=0.5, whiskerwidth=0, show_outliers=false, color=(c1, 0))\n",
    "ylims!(axright, low = 0, high = 2.7)\n",
    "xlims!(axright, low=-0.4, high=4.7)\n",
    "\n",
    "colgap!(ga, 2)\n",
    "rowgap!(ga, 2)\n",
    "colsize!(ga, 2, Relative(1.2/3))\n",
    "rowsize!(ga, 1, Relative(1.2/3))\n",
    "\n",
    "f"
   ]
  },
  {
   "cell_type": "code",
   "execution_count": null,
   "id": "f33481be-d6f2-43f9-ba86-3ac8fcf61f7b",
   "metadata": {},
   "outputs": [],
   "source": [
    "#save(\"../data/mESC/figures/2D_plot.pdf\", f, pt_per_unit = 1);"
   ]
  },
  {
   "cell_type": "markdown",
   "id": "d548a8e5-a4c7-4c7e-bb98-a5705e553482",
   "metadata": {},
   "source": [
    "# Fig. 2e: relative change"
   ]
  },
  {
   "cell_type": "markdown",
   "id": "76292931-dfea-4747-917c-760a450f6c81",
   "metadata": {},
   "source": [
    "Computed as $\\left(f_{\\text{G2/M}} - f_{\\text{G1}}\\right) / f_{\\text{G1}}$ and similarly for burst size."
   ]
  },
  {
   "cell_type": "code",
   "execution_count": null,
   "id": "1cb934c2-8a7f-4cfc-a54c-4314da40fedc",
   "metadata": {},
   "outputs": [],
   "source": [
    "Δf = @. abs(burst_freqs_G2M_Vind - burst_freqs_G1_Vind) / burst_freqs_G1_Vind\n",
    "Δb = @. abs(burst_sizes_G2M_Vind - burst_sizes_G1_Vind) / burst_sizes_G1_Vind;"
   ]
  },
  {
   "cell_type": "code",
   "execution_count": null,
   "id": "ca842798-85c8-499e-b66e-488ec434497c",
   "metadata": {},
   "outputs": [],
   "source": [
    "function get_relative_change_ratio_CI_PL(d1::DiscreteUnivariateDistribution, y1::AbstractArray, theta1, nconv1::Int,\n",
    "                                         d2::DiscreteUnivariateDistribution, y2::AbstractArray, theta2, nconv2::Int; \n",
    "                                         resolution::Int=1000, alpha::Float64=0.05, kwargs...)\n",
    "    \n",
    "    # Profile likelihood set up such that Q_Δ = [(f₂-f₁) / f₁] / [(bs₂-bs₁) / bs₁] ⟹ f₂ = Q_Δ × f₁ × (bs₂ - bs₁) / bs₁ + f₁\n",
    "    # We vary Δ and maximise the joint likelihood where f₂ is fixed\n",
    "\n",
    "    loss_joint, n1, n2, xs, lb, ub, tau = init_ratio_CI_PL(d1, y1, theta1, nconv1, \n",
    "                                                           d2, y2, theta2, nconv2, alpha)\n",
    "    loss_MLE = loss_joint(xs)\n",
    "\n",
    "    p_lb = -100; p_ub = 100 # fixed Δ bounds in the real-space\n",
    "    f_i1 = bf_ind(d1)\n",
    "    f_i2 = bf_ind(d2)\n",
    "    b_i1 = b_ind(d1)\n",
    "    b_i2 = b_ind(d2)\n",
    "    lb[f_i2] = p_lb; ub[f_i2] = p_ub\n",
    "    dstep = (p_ub - p_lb)/resolution \n",
    "\n",
    "    bs1 = get_burst_size(d1, theta1)\n",
    "    bs2 = get_burst_size(d2, theta2)\n",
    "    Δb = (bs2 - bs1) / bs1\n",
    "\n",
    "    bf1 = get_burst_frequency(d1)\n",
    "    bf2 = get_burst_frequency(d2)\n",
    "    Δf = (bf2 - bf1) / bf1\n",
    "\n",
    "    Q_Δ = Δf / Δb\n",
    "    xs[f_i2] = Q_Δ\n",
    "    fn = identity\n",
    "    log_wsum_fth1 = get_log_weighted_sum_ftheta(d1, theta1)\n",
    "    log_wsum_fth2 = get_log_weighted_sum_ftheta(d2, theta2)\n",
    "    log_b1 = get_log_b(d1)\n",
    "    log_b2 = get_log_b(d2)\n",
    "    \n",
    "    function log_bs1(x)\n",
    "        x1 = @view x[n2+1:end]\n",
    "        log_b1(x1) + log_wsum_fth1(x1)\n",
    "    end\n",
    "\n",
    "    function log_bs2(x)\n",
    "        x2 = @view x[1:n2]\n",
    "        log_b2(x2) + log_wsum_fth2(x2)\n",
    "    end\n",
    "\n",
    "    function term(x)\n",
    "        _Q = x[f_i2]\n",
    "        lb1 = log_bs1(x)\n",
    "        lb2 = log_bs2(x)\n",
    "        _term = 1 + _Q * (exp(lb2-lb1) - 1)\n",
    "        return _term\n",
    "    end\n",
    "    \n",
    "    log_bf2(x) = NaNMath.log(term(x)) + x[n2+f_i1] - isNB(d1)*log(nconv1) + isNB(d2)*log(nconv2)\n",
    "    \n",
    "    # shift the parameters so that Δ is the first argument to the loss function\n",
    "    n = n1+n2\n",
    "    _inds = circshift(1:n, n-f_i2+1)\n",
    "    srt_inds = sortperm(_inds)\n",
    "\n",
    "    function lossf(x)\n",
    "        _f2 = log_bf2(x[srt_inds])\n",
    "        if isnan(_f2)\n",
    "            return NaN\n",
    "        else\n",
    "            loss_joint(vcat(_f2, x[2:end])[srt_inds])\n",
    "        end\n",
    "    end\n",
    "    \n",
    "    lossf(x2, p) = lossf(vcat(p, x2))\n",
    "    _lb = vcat(lb[_inds], 0)\n",
    "    _ub = vcat(ub[_inds], Inf)\n",
    "    cons(res, x2, p) = (res .= vcat(x2, term(vcat(p, x2)[srt_inds])))\n",
    "    runf(_dstep) = profile_likelihood_CI(lossf, loss_MLE, xs[_inds], _dstep, tau, fn, _lb, _ub, cons; kwargs...)\n",
    "    \n",
    "    p_lower = runf(-dstep)\n",
    "    p_upper = runf(dstep)\n",
    "    Δ_lb = fn(p_lower)\n",
    "    Δ_ub = fn(p_upper)    \n",
    "    Δ_lb, Δ_ub\n",
    "    \n",
    "end\n"
   ]
  },
  {
   "cell_type": "code",
   "execution_count": null,
   "id": "5cbc3e03-59ad-4196-a3de-eb7d4fd7560f",
   "metadata": {},
   "outputs": [],
   "source": [
    "function abs_bounds(x)\n",
    "    lb, ub = x\n",
    "    if lb < 0 && ub < 0\n",
    "        return (abs(ub), abs(lb))\n",
    "    elseif lb < 0 && ub >= 0\n",
    "        return (0, max(abs(lb), ub))\n",
    "    elseif lb >=0 && ub >= 0\n",
    "        return (lb, ub) \n",
    "    end\n",
    "    error(\"faulty CI bounds\")\n",
    "end"
   ]
  },
  {
   "cell_type": "code",
   "execution_count": null,
   "id": "4e6d7216-b70f-4be0-8eb6-bf09ae664b52",
   "metadata": {
    "scrolled": true
   },
   "outputs": [],
   "source": [
    "# compile\n",
    "inds = 1:10\n",
    "@time all_CI_Q_Δ = get_ratio_confidence_intervals(G1_th_ind_fits[inds], xG1[inds], nothing, 2,\n",
    "                                                  G2M_th_ind_fits[inds], xG2M[inds], nothing, 4,\n",
    "                                                  get_relative_change_ratio_CI_PL, time_limit=10.0);"
   ]
  },
  {
   "cell_type": "code",
   "execution_count": null,
   "id": "418cc35a-c8dd-4d9d-be88-525d963a081f",
   "metadata": {
    "scrolled": true
   },
   "outputs": [],
   "source": [
    "inds = 1:ngenes\n",
    "@time all_CI_Q_Δ = get_ratio_confidence_intervals(G1_th_ind_fits[inds], xG1[inds], nothing, 2,\n",
    "                                                  G2M_th_ind_fits[inds], xG2M[inds], nothing, 4,\n",
    "                                                  get_relative_change_ratio_CI_PL, time_limit=10.0);"
   ]
  },
  {
   "cell_type": "code",
   "execution_count": null,
   "id": "b96a7a5c-15d2-40c2-9b15-72766ef9fd4a",
   "metadata": {},
   "outputs": [],
   "source": [
    "inds = findall(!isassigned(all_CI_Q_Δ, i) for i in 1:ngenes)\n",
    "@time all_CI_Q_Δ[inds] = get_ratio_confidence_intervals(G1_th_ind_fits[inds], xG1[inds], nothing, 2,\n",
    "                                                        G2M_th_ind_fits[inds], xG2M[inds], nothing, 4,\n",
    "                                                        get_relative_change_ratio_CI_PL, time_limit=100.0);"
   ]
  },
  {
   "cell_type": "code",
   "execution_count": null,
   "id": "d9ce7c3b-eea9-40ca-b1a1-fdb5e74e9b70",
   "metadata": {},
   "outputs": [],
   "source": [
    "abs_CI_Q_Δ = abs_bounds.(all_CI_Q_Δ);"
   ]
  },
  {
   "cell_type": "code",
   "execution_count": null,
   "id": "189ca1ab-23db-43c2-a37e-5a12ba1e5e5d",
   "metadata": {},
   "outputs": [],
   "source": [
    "# burst frequency change clearly greater than burst size change\n",
    "inds1 = findall(first.(abs_CI_Q_Δ) .> 1)\n",
    "per1 = length(inds1) / ngenes * 100\n",
    "@show length(inds1)\n",
    "@show per1\n",
    "# burst size change clearly greater than burst frequency change\n",
    "inds2 = findall(last.(abs_CI_Q_Δ) .< 1)\n",
    "per2 = length(inds2) / ngenes * 100\n",
    "@show length(inds2)\n",
    "@show per2\n",
    "# burst size change is similar to that of burst frequency\n",
    "inds3 = findall(first.(abs_CI_Q_Δ) .<= 1)\n",
    "inds4 = findall(last.(abs_CI_Q_Δ) .>= 1)\n",
    "inds5 = intersect(inds3, inds4) \n",
    "per3 = length(inds5) / ngenes * 100\n",
    "@show length(inds5)\n",
    "@show per3;"
   ]
  },
  {
   "cell_type": "code",
   "execution_count": null,
   "id": "55370ef4-8a4e-4263-9206-03638dd2449e",
   "metadata": {},
   "outputs": [],
   "source": [
    "Λ₁ = means_ratio[inds5]\n",
    "Λ₂ = means_ratio[inds2]\n",
    "Λ₃ = means_ratio[inds1];"
   ]
  },
  {
   "cell_type": "code",
   "execution_count": null,
   "id": "4e46aa06-a5fb-46ad-a612-9176777813fa",
   "metadata": {},
   "outputs": [],
   "source": [
    "@show median(Λ₁)\n",
    "@show quantile(Λ₁, 0.25)\n",
    "@show quantile(Λ₁, 0.75);"
   ]
  },
  {
   "cell_type": "code",
   "execution_count": null,
   "id": "ef3499ea-9e5c-44bd-ab2b-fb7546d3fea5",
   "metadata": {},
   "outputs": [],
   "source": [
    "@show median(Λ₂)\n",
    "@show quantile(Λ₂, 0.25)\n",
    "@show quantile(Λ₂, 0.75);"
   ]
  },
  {
   "cell_type": "code",
   "execution_count": null,
   "id": "7b7151c8-f518-469f-bda6-80aea1e44333",
   "metadata": {},
   "outputs": [],
   "source": [
    "@show median(Λ₃)\n",
    "@show quantile(Λ₃, 0.25)\n",
    "@show quantile(Λ₃, 0.75);"
   ]
  },
  {
   "cell_type": "code",
   "execution_count": null,
   "id": "97ec459e-f770-4a81-a752-cc638b178c50",
   "metadata": {},
   "outputs": [],
   "source": [
    "median(Λ₂) > median(Λ₁) > median(Λ₃)"
   ]
  },
  {
   "cell_type": "code",
   "execution_count": null,
   "id": "8028aa83-4a37-4f1a-b922-958c8335475a",
   "metadata": {},
   "outputs": [],
   "source": [
    "cx1 = colorant\"#8790fd\"\n",
    "cx2 = colorant\"#0098D1\"\n",
    "cx3 = colorant\"#f07269\";"
   ]
  },
  {
   "cell_type": "code",
   "execution_count": null,
   "id": "0c7695ba-1398-49c6-ba78-bf29db0c0ba0",
   "metadata": {},
   "outputs": [],
   "source": [
    "f = Figure(resolution = (size_pt[1]*0.9, size_pt[2]*1.1), figure_padding = 2)\n",
    "\n",
    "ax = Axis(f[1, 1],\n",
    "          ylabel=\"Percentage of cells\",\n",
    "          yscale=log10,\n",
    "          yminorticksvisible = true,\n",
    "          yminorticksize = 1.5,\n",
    "          yminortickwidth = 0.7,\n",
    "          yminorticks = IntervalsBetween(9),\n",
    "          yticks = ([1, 10, 100]),\n",
    "          xticks=(1:3, [\"|Δf| ≈ |Δb|\", \"|Δf| < |Δb|\", \"|Δf| > |Δb|\"]))\n",
    "\n",
    "barplot!(ax, [1, 2, 3], [per3, per2, per1], color=[cx1, cx2, cx3], gap=0.0, width=0.85, direction=:y, fillto=1.0)\n",
    "ylims!(ax, low=1, high=130)"
   ]
  },
  {
   "cell_type": "code",
   "execution_count": null,
   "id": "17aac5a1-2f45-4ec2-a68a-f28f243f057e",
   "metadata": {},
   "outputs": [],
   "source": [
    "f"
   ]
  },
  {
   "cell_type": "code",
   "execution_count": null,
   "id": "ee8290fc-0000-4af2-a9aa-faefee0646fa",
   "metadata": {},
   "outputs": [],
   "source": [
    "#save(\"../data/mESC/figures/2E_relchange.pdf\", f, pt_per_unit = 1);"
   ]
  }
 ],
 "metadata": {
  "kernelspec": {
   "display_name": "8 1.9.3",
   "language": "julia",
   "name": "8-1.9"
  },
  "language_info": {
   "file_extension": ".jl",
   "mimetype": "application/julia",
   "name": "julia",
   "version": "1.9.3"
  }
 },
 "nbformat": 4,
 "nbformat_minor": 5
}
