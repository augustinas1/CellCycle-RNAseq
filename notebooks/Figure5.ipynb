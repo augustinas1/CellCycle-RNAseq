{
 "cells": [
  {
   "cell_type": "code",
   "execution_count": null,
   "id": "27ca6220-57d5-4828-8dfe-3e5262a5c2a8",
   "metadata": {},
   "outputs": [],
   "source": [
    "include(\"../analysis/mESC/load_analysis.jl\")\n",
    "include(\"../analysis/mESC/filter_by_correlation.jl\");"
   ]
  },
  {
   "cell_type": "markdown",
   "id": "df554f21-3cfc-4a59-9bd7-144a2d6df9ea",
   "metadata": {},
   "source": [
    "# Fig. 5A: example distributions for different models"
   ]
  },
  {
   "cell_type": "code",
   "execution_count": null,
   "id": "35c0db4b-3572-40db-b089-13960d562846",
   "metadata": {},
   "outputs": [],
   "source": [
    "function stairpts(s)\n",
    "    pts = s.plots[1].converted[1][]\n",
    "    [p[1] for p in pts], [p[2] for p in pts]\n",
    "end\n",
    "\n",
    "function plot_fit_theta(f::GridPosition, xdata::AbstractArray, d::Distribution, nconv::Int, th=nothing; kwargs...)\n",
    "    ax = Axis(f, \n",
    "          xlabel=\"Counts\", ylabel=\"Probability\", kwargs...)\n",
    "    xs, ww = fit_hist(xdata)\n",
    "    ww = ww ./ ww.sum\n",
    "    \n",
    "    ylims!(0, nothing)\n",
    "    xlims!(-0.8, xs[end]+0.8)\n",
    "    \n",
    "    s = stairs!(ax, vcat(-1, xs, xs[end]+1), vcat(0, ww, 0), \n",
    "               step=:center, color=(c1, 1), linewidth=0)\n",
    "\n",
    "    xs′, ys′ = stairpts(s)\n",
    "    band!(ax, xs′, 0*ys′, ys′, color=(colorant\"#d0d0d1\", 1), label=\"Data\")\n",
    "    vlines!(ax, mean(xdata), linewidth=1.5, color=(c3, 0.8))\n",
    "    ys = isnothing(th) ? convn(pdf.(d, xs), nconv) : convn(pdf.(d, th, xs), nconv)\n",
    "    lines!(ax, xs, ys, markersize=2, color=(c1, 0.8), linewidth=1.5, label=\"MLE fit\")\n",
    "    \n",
    "    ax\n",
    "end\n",
    "\n",
    "function plot_fit_theta(xdata::AbstractArray, d::Distribution, nconv::Int, th=nothing; kwargs...)\n",
    "    f = Figure(resolution = (size_pt[1]*0.4, size_pt[2]*0.4), figure_padding = 3, fontsize=6)\n",
    "    plot_fit_theta(f[1,1], xdata, d, nconv, th, kwargs...)\n",
    "    f\n",
    "end"
   ]
  },
  {
   "cell_type": "code",
   "execution_count": null,
   "id": "a620551f-7e1f-40d0-be55-93d7e82491b7",
   "metadata": {},
   "outputs": [],
   "source": [
    "ind = findfirst(gene_names .== \"Prpf8\");"
   ]
  },
  {
   "cell_type": "markdown",
   "id": "25c640d2-46f5-40c8-9318-cb2f07d14259",
   "metadata": {},
   "source": [
    "#### Merged data ($\\lambda$-independent)"
   ]
  },
  {
   "cell_type": "code",
   "execution_count": null,
   "id": "71dba899-d4aa-4335-b7d7-1f08344ef86c",
   "metadata": {},
   "outputs": [],
   "source": [
    "d = merged_th_ind_fits[ind]\n",
    "y = counts_merged[ind]\n",
    "nconv = 2\n",
    "f = plot_fit_theta(y, d, nconv)"
   ]
  },
  {
   "cell_type": "code",
   "execution_count": null,
   "id": "91e6911b-70a3-47b9-9cd5-9d33c6dae391",
   "metadata": {},
   "outputs": [],
   "source": [
    "#save(\"../data/mESC/figures/5A_merged_th_ind.pdf\", f, pt_per_unit = 1);"
   ]
  },
  {
   "cell_type": "markdown",
   "id": "401a06f0-4a1f-447c-9a2c-8572afee53cd",
   "metadata": {},
   "source": [
    "#### Cell-cycle data ($\\lambda$-independent)"
   ]
  },
  {
   "cell_type": "code",
   "execution_count": null,
   "id": "22f4399f-ecd6-49ef-bc35-b7f70f4a9ce4",
   "metadata": {},
   "outputs": [],
   "source": [
    "d = G1_th_ind_fits[ind]\n",
    "y = xG1[ind]\n",
    "nconv = 2\n",
    "f = plot_fit_theta(y, d, nconv)"
   ]
  },
  {
   "cell_type": "code",
   "execution_count": null,
   "id": "15a9e1d0-1bb2-4064-8e80-d552547b3d58",
   "metadata": {},
   "outputs": [],
   "source": [
    "#save(\"../figures/5A_phase_th_ind_G1.pdf\", f, pt_per_unit = 1);"
   ]
  },
  {
   "cell_type": "code",
   "execution_count": null,
   "id": "1ee593a8-830f-40f9-a2a6-d59745c73814",
   "metadata": {},
   "outputs": [],
   "source": [
    "d = G2M_th_ind_fits[ind]\n",
    "y = xG2M[ind]\n",
    "nconv = 4\n",
    "f = plot_fit_theta(y, d, nconv)"
   ]
  },
  {
   "cell_type": "code",
   "execution_count": null,
   "id": "dd2171c7-c66b-47a8-bc71-e921df587ba2",
   "metadata": {},
   "outputs": [],
   "source": [
    "#save(\"../figures/5A_phase_th_ind_G2M.pdf\", f, pt_per_unit = 1);"
   ]
  },
  {
   "cell_type": "markdown",
   "id": "e4f7e5f3-cfc2-438d-9417-c2d729be0e27",
   "metadata": {},
   "source": [
    "#### Merged data ($\\lambda$-dependent)"
   ]
  },
  {
   "cell_type": "code",
   "execution_count": null,
   "id": "42b7e251-8b08-44db-8040-6b9085d1607d",
   "metadata": {},
   "outputs": [],
   "source": [
    "f = Figure(resolution = (size_pt[1]*0.7, size_pt[2]*0.4), figure_padding = 3, fontsize=6)\n",
    "ga = f[1,1] = GridLayout()\n",
    "\n",
    "nconv = 2\n",
    "y = counts_merged[ind]\n",
    "x = theta_merged\n",
    "ths = sort(unique(x))\n",
    "d = merged_th_dep_fits[ind]\n",
    "\n",
    "th0 = ths[1]\n",
    "y1 = y[findall(x .== th0)]\n",
    "ax1 = plot_fit_theta(ga[1,1], y1, d, nconv, th0)\n",
    "ax1.xlabel = \"\"\n",
    "ax1.yticks = 0:0.1:0.2\n",
    "th0 = round(th0, digits=2)\n",
    "\n",
    "th0 = ths[end]\n",
    "y2 = y[findall(x .== th0)]\n",
    "ax2 = plot_fit_theta(ga[1,2], y2, d, nconv, th0)\n",
    "ax2.ylabel = \"\"\n",
    "ax2.yticks = 0:0.1:0.2\n",
    "th0 = round(th0, digits=2)\n",
    "colgap!(ga, 6)\n",
    "\n",
    "f"
   ]
  },
  {
   "cell_type": "code",
   "execution_count": null,
   "id": "89c507c0-36e4-479f-b5f7-a2a9953e1874",
   "metadata": {},
   "outputs": [],
   "source": [
    "#save(\"../data/mESC/figures/5A_merged_th_dep.pdf\", f, pt_per_unit = 1);"
   ]
  },
  {
   "cell_type": "markdown",
   "id": "a683f6d2-565f-43d8-9503-90b1f79b9920",
   "metadata": {},
   "source": [
    "#### Cell-cycle data ($\\lambda$-dependent)"
   ]
  },
  {
   "cell_type": "code",
   "execution_count": null,
   "id": "dd798fce-18b0-4d82-b94d-30652e683db3",
   "metadata": {},
   "outputs": [],
   "source": [
    "f = Figure(resolution = (size_pt[1]*0.6, size_pt[2]*0.4), figure_padding = 3, fontsize=6)\n",
    "ga = f[1,1] = GridLayout()\n",
    "\n",
    "nconv=2\n",
    "y = xG1[ind]\n",
    "x = thetaG1\n",
    "ths = sort(unique(x))\n",
    "d = G1_th_dep_fits[ind]\n",
    "\n",
    "th0 = ths[1]\n",
    "y1 = y[findall(x .== th0)]\n",
    "ax1 = plot_fit_theta(ga[1,1], y1, d, nconv, th0)\n",
    "ax1.xlabel = \"\"\n",
    "ax1.yticks = 0:0.1:0.2\n",
    "th0 = round(th0, digits=2)\n",
    "\n",
    "th0 = ths[end]\n",
    "y2 = y[findall(x .== th0)]\n",
    "ax2 = plot_fit_theta(ga[1,2], y2, d, nconv, th0)\n",
    "ax2.ylabel = \"\"\n",
    "ax2.xticks = 0:10:20\n",
    "ax2.yticks = 0:0.1:0.2\n",
    "th0 = round(th0, digits=2)\n",
    "\n",
    "colgap!(ga, 6)\n",
    "\n",
    "f"
   ]
  },
  {
   "cell_type": "code",
   "execution_count": null,
   "id": "491a9fad-7560-44ac-b13d-53e23f5e2eff",
   "metadata": {},
   "outputs": [],
   "source": [
    "#save(\"../data/mESC/figures/5A_phase_th_dep_G1.pdf\", f, pt_per_unit = 1);"
   ]
  },
  {
   "cell_type": "code",
   "execution_count": null,
   "id": "37f70c7a-cf4c-4cf1-8421-fda1252b4ebf",
   "metadata": {},
   "outputs": [],
   "source": [
    "f = Figure(resolution = (size_pt[1]*0.6, size_pt[2]*0.4), figure_padding = 3, fontsize=6)\n",
    "ga = f[1,1] = GridLayout()\n",
    "\n",
    "nconv=4\n",
    "y = xG2M[ind]\n",
    "x = thetaG2M\n",
    "ths = sort(unique(x))\n",
    "d = G2M_th_dep_fits[ind]\n",
    "\n",
    "th0 = ths[1]\n",
    "y1 = y[findall(x .== th0)]\n",
    "ax1 = plot_fit_theta(ga[1,1], y1, d, nconv, th0)\n",
    "ax1.xlabel = \"\"\n",
    "ax1.yticks = 0:0.1:0.1\n",
    "th0 = round(th0, digits=2)\n",
    "\n",
    "th0 = ths[end]\n",
    "y2 = y[findall(x .== th0)]\n",
    "ax2 = plot_fit_theta(ga[1,2], y2, d, nconv, th0)\n",
    "ax2.ylabel = \"\"\n",
    "ax2.yticks = 0:0.1:0.2\n",
    "ax2.xticks = 0:15:30\n",
    "th0 = round(th0, digits=2)\n",
    "\n",
    "colgap!(ga, 6)\n",
    "\n",
    "f"
   ]
  },
  {
   "cell_type": "code",
   "execution_count": null,
   "id": "54b1675a-acbd-499a-bab1-c07ee02add76",
   "metadata": {},
   "outputs": [],
   "source": [
    "#save(\"../data/mESC/figures/5A_phase_th_dep_G2M.pdf\", f, pt_per_unit = 1);"
   ]
  },
  {
   "cell_type": "markdown",
   "id": "737df134-1071-4f25-b668-4a3926b3cdf3",
   "metadata": {},
   "source": [
    "# Fig 5C: parameter ratios"
   ]
  },
  {
   "cell_type": "code",
   "execution_count": null,
   "id": "034871f7-d0a6-44de-80e2-0e668cec2e40",
   "metadata": {},
   "outputs": [],
   "source": [
    "cx1 = colorant\"#8790fd\"\n",
    "cx2 = colorant\"#0098D1\"\n",
    "cx3 = c2;"
   ]
  },
  {
   "cell_type": "code",
   "execution_count": null,
   "id": "a4e95a5e-1a01-4924-ae2f-59c0735aa2df",
   "metadata": {},
   "outputs": [],
   "source": [
    "burst_freqs_G1_th_dep = get_burst_frequency.(G1_th_dep_fits)\n",
    "burst_freqs_G2M_th_dep = get_burst_frequency.(G2M_th_dep_fits)\n",
    "burst_freqs_merged_th_dep = get_burst_frequency.(merged_th_dep_fits)\n",
    "burst_freqs_G1_th_ind = get_burst_frequency.(G1_th_ind_fits)\n",
    "burst_freqs_G2M_th_ind = get_burst_frequency.(G2M_th_ind_fits)\n",
    "burst_freqs_merged_th_ind = get_burst_frequency.(merged_th_ind_fits);"
   ]
  },
  {
   "cell_type": "code",
   "execution_count": null,
   "id": "22c8a750-eee6-4d52-9d83-269757d00e9b",
   "metadata": {},
   "outputs": [],
   "source": [
    "burst_sizes_G1_th_dep = get_burst_size.(G1_th_dep_fits, Ref(thetaG1))\n",
    "burst_sizes_G2M_th_dep = get_burst_size.(G2M_th_dep_fits, Ref(thetaG2M))\n",
    "burst_sizes_merged_th_dep = get_burst_size.(merged_th_dep_fits, Ref(theta_merged))\n",
    "burst_sizes_G1_th_ind = get_burst_size.(G1_th_ind_fits)\n",
    "burst_sizes_G2M_th_ind = get_burst_size.(G2M_th_ind_fits)\n",
    "burst_sizes_merged_th_ind = get_burst_size.(merged_th_ind_fits);"
   ]
  },
  {
   "cell_type": "code",
   "execution_count": null,
   "id": "00efce35-46ef-43c3-831e-93acbadbce26",
   "metadata": {},
   "outputs": [],
   "source": [
    "ncells_G1 = length(xG1[1])\n",
    "ncells_G2M = length(xG2M[1])\n",
    "w1 = 2*ncells_G1 / (2*ncells_G1 + 4*ncells_G2M)\n",
    "w2 = 4*ncells_G2M / (2*ncells_G1 + 4*ncells_G2M);"
   ]
  },
  {
   "cell_type": "code",
   "execution_count": null,
   "id": "e5413d31-fc76-4d9c-946d-978375e663c7",
   "metadata": {},
   "outputs": [],
   "source": [
    "burst_freqs_phase_th_dep = @. w1 * burst_freqs_G1_th_dep + w2 * burst_freqs_G2M_th_dep\n",
    "burst_freqs_phase_th_ind = @. w1 * burst_freqs_G1_th_ind + w2 * burst_freqs_G2M_th_ind\n",
    "burst_sizes_phase_th_dep = @. w1 * burst_sizes_G1_th_dep + w2 * burst_sizes_G2M_th_dep\n",
    "burst_sizes_phase_th_ind = @. w1 * burst_sizes_G1_th_ind + w2 * burst_sizes_G2M_th_ind;"
   ]
  },
  {
   "cell_type": "code",
   "execution_count": null,
   "id": "e1dba783-054b-41a1-b072-a719eb052509",
   "metadata": {},
   "outputs": [],
   "source": [
    "ratio_f_merged_th_dep =  burst_freqs_merged_th_dep ./ burst_freqs_phase_th_dep\n",
    "ratio_f_merged_th_ind = burst_freqs_merged_th_ind ./ burst_freqs_phase_th_dep\n",
    "ratio_f_phase_th_ind = burst_freqs_phase_th_ind ./ burst_freqs_phase_th_dep\n",
    "\n",
    "ratio_b_merged_th_dep = burst_sizes_merged_th_dep ./ burst_sizes_phase_th_dep\n",
    "ratio_b_merged_th_ind = burst_sizes_merged_th_ind ./ burst_sizes_phase_th_dep\n",
    "ratio_b_phase_th_ind = burst_sizes_phase_th_ind ./ burst_sizes_phase_th_dep;"
   ]
  },
  {
   "cell_type": "code",
   "execution_count": null,
   "id": "b986ee4e-e263-46ad-b92a-5eeec1647e08",
   "metadata": {},
   "outputs": [],
   "source": [
    "cx1 = colorant\"#8790fd\"\n",
    "cx2 = colorant\"#0098D1\"\n",
    "cx3 = colorant\"#f07269\";"
   ]
  },
  {
   "cell_type": "code",
   "execution_count": null,
   "id": "7d4e5978-1273-4333-ba2c-c644f714e94b",
   "metadata": {},
   "outputs": [],
   "source": [
    "f = Figure(resolution = (size_pt[1]*1.0, size_pt[2]*1.6), figure_padding = 1)\n",
    "ga = f[1,1] = GridLayout()\n",
    "\n",
    "y1 = ratio_f_phase_th_ind; x1 = fill(\"c_th_ind\", length(y1))\n",
    "y2 = ratio_f_merged_th_dep; x2 = fill(\"m_th_dep\", length(y2))\n",
    "y3 = ratio_f_merged_th_ind; x3 = fill(\"m_th_ind\", length(y3))\n",
    "ax1 = Axis(ga[1, 1], xlabel=\"\", ylabel=\"\", xticks=0.6:0.2:1.8)\n",
    "rainclouds!(ax1, vcat(x3, x2, x1), vcat(y3, y2, y1), gap=-0.5,\n",
    "            orientation = :horizontal,\n",
    "            color = vcat(fill(cx1, length(y1)), fill(cx2, length(y2)), fill(cx3, length(y3))),\n",
    "            cloud_width=0.9, show_median=false, violin_limits=(-Inf, Inf), clouds=violin,\n",
    "            boxplot_width=0.1, boxplot_nudge=0.0, strokewidth = 0.7, whiskerwidth=0,\n",
    "            jitter_width=0.2, markersize=1.3, side_nudge=0.127)\n",
    "vlines!(1, color=(:black, 0.5), linestyle=:dash)\n",
    "xlims!(0.57, 1.83)\n",
    "\n",
    "y1 = ratio_b_phase_th_ind; x1 = fill(\"c_th_ind\", length(y1))\n",
    "y2 = ratio_b_merged_th_dep; x2 = fill(\"m_th_dep\", length(y2))\n",
    "y3 = ratio_b_merged_th_ind; x3 = fill(\"m_th_ind\", length(y3))\n",
    "ax2 = Axis(ga[2, 1], xlabel=\"\", ylabel=\"\", xticks=0.8:0.2:1.8)\n",
    "rainclouds!(ax2, vcat(x3, x2, x1), vcat(y3, y2, y1), gap=-0.5,\n",
    "            orientation = :horizontal,\n",
    "            color = vcat(fill(cx1, length(y1)), fill(cx2, length(y2)), fill(cx3, length(y3))),\n",
    "            cloud_width=0.9, show_median=false, violin_limits=(-Inf, Inf), clouds=violin,\n",
    "            boxplot_width=0.1, boxplot_nudge=0.0, strokewidth = 0.7, whiskerwidth=0,\n",
    "            jitter_width=0.2, markersize=1.3, side_nudge=0.127)\n",
    "vlines!(1, color=(:black, 0.5), linestyle=:dash)\n",
    "xlims!(0.77, 1.83)\n",
    "\n",
    "rowgap!(ga, 6)"
   ]
  },
  {
   "cell_type": "code",
   "execution_count": null,
   "id": "6233be38-3995-4b9a-b214-b54c4c2cd450",
   "metadata": {},
   "outputs": [],
   "source": [
    "f"
   ]
  },
  {
   "cell_type": "code",
   "execution_count": null,
   "id": "d3dd43b5-0e94-4ceb-82bd-3930bb198fae",
   "metadata": {},
   "outputs": [],
   "source": [
    "abs(1-median(ratio_b_merged_th_ind))*100"
   ]
  },
  {
   "cell_type": "code",
   "execution_count": null,
   "id": "03701fab-84bd-451b-b1b4-83b5f127eedb",
   "metadata": {},
   "outputs": [],
   "source": [
    "abs(1-median(ratio_b_merged_th_dep))*100"
   ]
  },
  {
   "cell_type": "code",
   "execution_count": null,
   "id": "3e28cb4e-2113-403f-bcc0-79e34b0506dc",
   "metadata": {},
   "outputs": [],
   "source": [
    "abs(1-median(ratio_f_merged_th_ind))*100"
   ]
  },
  {
   "cell_type": "code",
   "execution_count": null,
   "id": "b451c47e-6750-4b4b-80d4-76ff0bf4735d",
   "metadata": {},
   "outputs": [],
   "source": [
    "abs(1-median(ratio_f_merged_th_dep))*100"
   ]
  },
  {
   "cell_type": "code",
   "execution_count": null,
   "id": "c1f5bf32-c32f-4b65-a2ea-3a0185324d84",
   "metadata": {},
   "outputs": [],
   "source": [
    "abs(1-median(ratio_f_phase_th_ind))*100"
   ]
  },
  {
   "cell_type": "code",
   "execution_count": null,
   "id": "69ee7e83-bea3-4582-9be3-8cb99223b011",
   "metadata": {},
   "outputs": [],
   "source": [
    "abs(1-median(ratio_b_phase_th_ind))*100"
   ]
  },
  {
   "cell_type": "code",
   "execution_count": null,
   "id": "362be6a4-fcc7-4bef-96a0-d9dbd01c944d",
   "metadata": {},
   "outputs": [],
   "source": [
    "#save(\"../data/mESC/figures/5C_bf_ratio_dists.pdf\", f, pt_per_unit = 1);"
   ]
  },
  {
   "cell_type": "markdown",
   "id": "537ad231-d895-4fd4-adf9-09b6bc62e1e7",
   "metadata": {},
   "source": [
    "# Fig. 5b: Example gene ratios"
   ]
  },
  {
   "cell_type": "code",
   "execution_count": null,
   "id": "99c20b6e-2d64-49b1-90fb-22daf57bff02",
   "metadata": {},
   "outputs": [],
   "source": [
    "get_merged_th_ind(ind) = [[merged_th_ind_fits[ind]], [counts_merged[ind]], [nothing], [2], [1]]\n",
    "get_merged_th_dep(ind) = [[merged_th_dep_fits[ind]], [counts_merged[ind]], [theta_merged], [2], [1]]\n",
    "get_phase_th_ind(ind) = [[G1_th_ind_fits[ind], G2M_th_ind_fits[ind]], [xG1[ind], xG2M[ind]], [nothing, nothing], [2, 4], [w1, w2]]\n",
    "get_phase_th_dep(ind) = [[G1_th_dep_fits[ind], G2M_th_dep_fits[ind]], [xG1[ind], xG2M[ind]], [thetaG1, thetaG2M], [2, 4], [w1, w2]];"
   ]
  },
  {
   "cell_type": "code",
   "execution_count": null,
   "id": "6f9945de-e872-4044-91fb-119e581bfee7",
   "metadata": {},
   "outputs": [],
   "source": [
    "genes = [\"Avpi1\", \"Macf1\", \"Rpl12\", \"Nme1\", \"Ddx23\"]\n",
    "inds = [findfirst(gene_names .== gene) for gene in genes];"
   ]
  },
  {
   "cell_type": "code",
   "execution_count": null,
   "id": "1dd637ec-a147-49ff-b0eb-38cbed31e472",
   "metadata": {},
   "outputs": [],
   "source": [
    "CI_ratio_f_merged_th_ind = @time get_ratio_confidence_intervals_weighted_avg(inds, get_merged_th_ind, get_phase_th_dep, get_burst_frequency_ratio_CI_PL_weighted_avg, time_limit=100.0)\n",
    "CI_ratio_f_merged_th_dep = @time get_ratio_confidence_intervals_weighted_avg(inds, get_merged_th_dep, get_phase_th_dep, get_burst_frequency_ratio_CI_PL_weighted_avg, time_limit=100.0)\n",
    "CI_ratio_f_phase_th_ind = @time get_ratio_confidence_intervals_weighted_avg(inds, get_phase_th_ind, get_phase_th_dep, get_burst_frequency_ratio_CI_PL_weighted_avg, time_limit=100.0)\n",
    "\n",
    "CI_ratio_b_merged_th_ind = @time get_ratio_confidence_intervals_weighted_avg(inds, get_merged_th_ind, get_phase_th_dep, get_burst_size_ratio_CI_PL_weighted_avg, time_limit=100.0)\n",
    "CI_ratio_b_merged_th_dep = @time get_ratio_confidence_intervals_weighted_avg(inds, get_merged_th_dep, get_phase_th_dep, get_burst_size_ratio_CI_PL_weighted_avg, time_limit=100.0)\n",
    "CI_ratio_b_phase_th_ind = @time get_ratio_confidence_intervals_weighted_avg(inds, get_phase_th_ind, get_phase_th_dep, get_burst_size_ratio_CI_PL_weighted_avg, time_limit=100.0);"
   ]
  },
  {
   "cell_type": "code",
   "execution_count": null,
   "id": "28c6d855-0485-4bdd-8284-80bab1c1ac16",
   "metadata": {},
   "outputs": [],
   "source": [
    "f = Figure(resolution = (size_pt[1]*0.9, size_pt[2]*1.6), figure_padding = 1)\n",
    "ga = f[1,1] = GridLayout()\n",
    "\n",
    "ax = Axis(ga[1,1],\n",
    "          xlabel=\"\", ylabel=\"Burst frequency ratio\", xticklabelsvisible=false)\n",
    "x = 1:length(genes)\n",
    "ax.xticks = (x, genes)\n",
    "\n",
    "y1 = ratio_f_merged_th_ind[inds]\n",
    "y1_lb = first.(CI_ratio_f_merged_th_ind)\n",
    "y1_ub = last.(CI_ratio_f_merged_th_ind)\n",
    "y2 = ratio_f_merged_th_dep[inds]\n",
    "y2_lb = first.(CI_ratio_f_merged_th_dep)\n",
    "y2_ub = last.(CI_ratio_f_merged_th_dep)\n",
    "y3 = ratio_f_phase_th_ind[inds]\n",
    "y3_lb = first.(CI_ratio_f_phase_th_ind)\n",
    "y3_ub = last.(CI_ratio_f_phase_th_ind)\n",
    "\n",
    "hlines!(ax, 1, color=(:black, 0.5), linestyle=:dash)\n",
    "scatter!(ax, x, y1, markersize=7, color=(cx1, 0.9))\n",
    "scatter!(ax, x, y2, markersize=7, color=(cx2, 0.9))\n",
    "scatter!(ax, x, y3, markersize=7, color=(cx3, 0.9))\n",
    "errorbars!(ax, x, y1, y1 .- y1_lb, y1_ub .- y1, whiskerwidth=5, color=(cx1, 0.9))\n",
    "errorbars!(ax, x, y2, y2 .- y2_lb, y2_ub .- y2, whiskerwidth=5, color=(cx2, 0.9))\n",
    "errorbars!(ax, x, y3, y3 .- y3_lb, y3_ub .- y3, whiskerwidth=5, color=(cx3, 0.9))\n",
    "\n",
    "ax = Axis(ga[2,1],\n",
    "          xlabel=\"\", ylabel=\"Burst size ratio\")\n",
    "x = 1:length(genes)\n",
    "ax.xticks = (x, genes)\n",
    "\n",
    "y1 = ratio_b_merged_th_ind[inds]\n",
    "y1_lb = first.(CI_ratio_b_merged_th_ind)\n",
    "y1_ub = last.(CI_ratio_b_merged_th_ind)\n",
    "y2 = ratio_b_merged_th_dep[inds]\n",
    "y2_lb = first.(CI_ratio_b_merged_th_dep)\n",
    "y2_ub = last.(CI_ratio_b_merged_th_dep)\n",
    "y3 = ratio_b_phase_th_ind[inds]\n",
    "y3_lb = first.(CI_ratio_b_phase_th_ind)\n",
    "y3_ub = last.(CI_ratio_b_phase_th_ind)\n",
    "\n",
    "hlines!(ax, 1, color=(:black, 0.5), linestyle=:dash)\n",
    "scatter!(ax, x, y1, markersize=7, color=(cx1, 0.9))\n",
    "scatter!(ax, x, y2, markersize=7, color=(cx2, 0.9))\n",
    "scatter!(ax, x, y3, markersize=7, color=(cx3, 0.9))\n",
    "errorbars!(ax, x, y1, y1 .- y1_lb, y1_ub .- y1, whiskerwidth=5, color=(cx1, 0.9))\n",
    "errorbars!(ax, x, y2, y2 .- y2_lb, y2_ub .- y2, whiskerwidth=5, color=(cx2, 0.9))\n",
    "errorbars!(ax, x, y3, y3 .- y3_lb, y3_ub .- y3, whiskerwidth=5, color=(cx3, 0.9))\n",
    "ylims!(0.65, 2.4)\n",
    "\n",
    "rowgap!(ga, 3)"
   ]
  },
  {
   "cell_type": "code",
   "execution_count": null,
   "id": "6798f229-4734-46a3-baba-a4a67486f330",
   "metadata": {},
   "outputs": [],
   "source": [
    "f"
   ]
  },
  {
   "cell_type": "code",
   "execution_count": null,
   "id": "17eca762-c6ca-4e20-914b-1166ffbc85fe",
   "metadata": {},
   "outputs": [],
   "source": [
    "#save(\"../data/mESC/figures/5B_ratios.pdf\", f, pt_per_unit = 1);"
   ]
  }
 ],
 "metadata": {
  "kernelspec": {
   "display_name": "8 1.9.3",
   "language": "julia",
   "name": "8-1.9"
  },
  "language_info": {
   "file_extension": ".jl",
   "mimetype": "application/julia",
   "name": "julia",
   "version": "1.9.3"
  }
 },
 "nbformat": 4,
 "nbformat_minor": 5
}
