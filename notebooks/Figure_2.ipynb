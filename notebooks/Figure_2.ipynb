{
 "cells": [
  {
   "cell_type": "code",
   "execution_count": null,
   "id": "8dcf0411-6153-4b72-b52b-d64dfefffb69",
   "metadata": {
    "slideshow": {
     "slide_type": ""
    },
    "tags": []
   },
   "outputs": [],
   "source": [
    "include(\"../analysis/mESC/load_analysis.jl\");"
   ]
  },
  {
   "cell_type": "markdown",
   "id": "c72929b4-126a-4831-9a7f-7a3388198f21",
   "metadata": {},
   "source": [
    "# Fig. 2A: Mean expression"
   ]
  },
  {
   "cell_type": "code",
   "execution_count": 2,
   "id": "7bd50429-70db-4575-8e2b-7362ccd232f6",
   "metadata": {},
   "outputs": [],
   "source": [
    "means_G1 = mean.(xG1)\n",
    "means_G2M = mean.(xG2M)\n",
    "means_ratio = means_G2M ./ means_G1;"
   ]
  },
  {
   "cell_type": "code",
   "execution_count": null,
   "id": "56ca3681-318b-4811-8f56-0cb104c95670",
   "metadata": {},
   "outputs": [],
   "source": [
    "median(means_ratio)"
   ]
  },
  {
   "cell_type": "code",
   "execution_count": null,
   "id": "cb8522ce-ad98-4f56-b690-59dbc34147a0",
   "metadata": {},
   "outputs": [],
   "source": [
    "quantile(means_ratio, 0.25)"
   ]
  },
  {
   "cell_type": "code",
   "execution_count": null,
   "id": "0d487548-7890-473d-bf54-a7912002cb66",
   "metadata": {},
   "outputs": [],
   "source": [
    "quantile(means_ratio, 0.75)"
   ]
  },
  {
   "cell_type": "code",
   "execution_count": null,
   "id": "75f439fd-52cb-42e5-a7ca-2e3ee102eb80",
   "metadata": {},
   "outputs": [],
   "source": [
    "function stairpts(s)\n",
    "    pts = s.plots[1].converted[1][]\n",
    "    [p[1] for p in pts], [p[2] for p in pts]\n",
    "end"
   ]
  },
  {
   "cell_type": "code",
   "execution_count": null,
   "id": "1acfbdc8-4713-4f5e-b417-10412bedfb57",
   "metadata": {
    "editable": true,
    "slideshow": {
     "slide_type": ""
    },
    "tags": []
   },
   "outputs": [],
   "source": [
    "f = Figure(size = (size_pt[1]*0.9, size_pt[2]*0.9), figure_padding = 1)\n",
    "ax = Axis(f[1,1], xlabel=\"Ratio of means Λ\", ylabel=\"Probability\")\n",
    "\n",
    "rmax = ceil(maximum(means_ratio), digits=1)\n",
    "dr = 0.05\n",
    "rs = 0:dr:rmax\n",
    "ws = fit(Histogram, means_ratio, vcat(rs, rmax+dr), closed=:right)\n",
    "ws = normalize(ws, mode=:probability)\n",
    "ws = ProbabilityWeights(ws.weights)\n",
    "\n",
    "ylims!(0, nothing)\n",
    "xlims!(0.5, 2.5)\n",
    "\n",
    "s = stairs!(ax, rs, ws, step=:post, color=(c1, 1), linewidth=0)\n",
    "\n",
    "xs′, ys′ = stairpts(s)\n",
    "band!(ax, xs′, 0*ys′, ys′, color=(c1, 1), label=\"Data\")\n",
    "vlines!(ax, 1, linewidth=1, color=(c3, 1), linestyle=:dash)\n",
    "vlines!(ax, 2, linewidth=1, color=(c3, 1), linestyle=:dash)"
   ]
  },
  {
   "cell_type": "code",
   "execution_count": null,
   "id": "c1beb4b7-f70e-4081-b053-64cf439dace3",
   "metadata": {},
   "outputs": [],
   "source": [
    "f"
   ]
  },
  {
   "cell_type": "markdown",
   "id": "7d04ce41-3ffd-49f5-b914-b8fab03753db",
   "metadata": {
    "editable": true,
    "slideshow": {
     "slide_type": ""
    },
    "tags": []
   },
   "source": [
    "# Fig. 2B: Cartoon"
   ]
  },
  {
   "cell_type": "code",
   "execution_count": null,
   "id": "37dd19ee-127e-48de-950c-347697463a71",
   "metadata": {},
   "outputs": [],
   "source": [
    "function plot_fit_new(f::GridPosition, xdata::AbstractArray, d::Distribution, nconv::Int; kwargs...)\n",
    "    ax = Axis(f, \n",
    "          xlabel=\"Counts\", ylabel=\"Probability\", kwargs...)\n",
    "    xs, ww = fit_hist(xdata)\n",
    "    ww = ww ./ ww.sum\n",
    "    \n",
    "    ylims!(0, nothing)\n",
    "    xlims!(-0.8, xs[end]+0.8)\n",
    "    \n",
    "    s = stairs!(ax, vcat(-1, xs, xs[end]+1), vcat(0, ww, 0), \n",
    "               step=:center, color=(c1, 1), linewidth=0)\n",
    "\n",
    "    xs′, ys′ = stairpts(s)\n",
    "    band!(ax, xs′, 0*ys′, ys′, color=(colorant\"#d0d0d1\", 1), label=\"Data\")\n",
    "    vlines!(ax, mean(xdata), linewidth=1, color=(c3, 0.8))\n",
    "    lines!(ax, xs, convn(pdf.(d, xs), nconv), color=(c1, 1), linewidth=1, label=\"MLE fit\")\n",
    "    ax\n",
    "end\n",
    "\n",
    "function plot_fit_new(xdata::AbstractArray, d::Distribution, nconv::Int; kwargs...)\n",
    "    f = Figure(size = (size_pt[1]*0.65, size_pt[2]*0.7), figure_padding = 3)\n",
    "    plot_fit_new(f[1,1], xdata, d, nconv, kwargs...)\n",
    "    f\n",
    "end"
   ]
  },
  {
   "cell_type": "code",
   "execution_count": null,
   "id": "e8573ef9-669e-4d43-bc3f-a643c91079ac",
   "metadata": {},
   "outputs": [],
   "source": [
    "ind = findfirst(gene_names .== \"Nme1\")"
   ]
  },
  {
   "cell_type": "code",
   "execution_count": 11,
   "id": "9b8715f3-f512-4d83-92b5-8a8a6b8fc7b2",
   "metadata": {},
   "outputs": [],
   "source": [
    "d = G1_th_ind_fits[ind]\n",
    "x = thetaG1\n",
    "nconv=2\n",
    "y = xG1[ind];"
   ]
  },
  {
   "cell_type": "code",
   "execution_count": null,
   "id": "72fea7ad-26c4-4c79-84a4-50aa30b3c745",
   "metadata": {},
   "outputs": [],
   "source": [
    "plot_fit_new(y, d, nconv)"
   ]
  },
  {
   "cell_type": "code",
   "execution_count": null,
   "id": "aaad6a5f-8ad6-4a1a-91f4-8bfd3606bc70",
   "metadata": {},
   "outputs": [],
   "source": [
    "f = Figure(size = (size_pt[1]*0.55, size_pt[2]*0.95), figure_padding = 1)\n",
    "ga = f[1,1] = GridLayout()\n",
    "\n",
    "xlim = 85\n",
    "y = xG1[ind]\n",
    "nconv = 2\n",
    "d = G1_th_ind_fits[ind]\n",
    "\n",
    "ax1 = plot_fit_new(ga[1,1], y, d, nconv)\n",
    "ax1.xlabel = \"\"\n",
    "ax1.xticklabelsvisible = false\n",
    "xlims!(ax1, (0, xlim))\n",
    "\n",
    "y = xG2M[ind]\n",
    "nconv=4\n",
    "d = G2M_th_ind_fits[ind]\n",
    "\n",
    "ax2 = plot_fit_new(ga[2,1], y, d, nconv)\n",
    "ax2.ylabel = \"\"\n",
    "xlims!(ax2, (0, xlim))\n",
    "\n",
    "rowgap!(ga, 5)\n",
    "\n",
    "f"
   ]
  },
  {
   "cell_type": "markdown",
   "id": "c07e5c80-2982-4894-aa18-174b81443749",
   "metadata": {},
   "source": [
    "# Fig. 2C: example ratios + CIs"
   ]
  },
  {
   "cell_type": "code",
   "execution_count": 14,
   "id": "f2b4f765-fccf-4870-a11a-6417133961f5",
   "metadata": {},
   "outputs": [],
   "source": [
    "burst_freqs_G1_th_ind = get_burst_frequency.(G1_th_ind_fits)\n",
    "burst_freqs_G2M_th_ind = get_burst_frequency.(G2M_th_ind_fits);"
   ]
  },
  {
   "cell_type": "code",
   "execution_count": 15,
   "id": "e02dd272-086a-4fd7-b8f5-be8bdd7b777f",
   "metadata": {},
   "outputs": [],
   "source": [
    "burst_sizes_G1_th_ind = get_burst_size.(G1_th_ind_fits)\n",
    "burst_sizes_G2M_th_ind = get_burst_size.(G2M_th_ind_fits);"
   ]
  },
  {
   "cell_type": "code",
   "execution_count": 16,
   "id": "a74cae28-4647-4c3c-ae15-7a3ec2801378",
   "metadata": {
    "editable": true,
    "slideshow": {
     "slide_type": ""
    },
    "tags": []
   },
   "outputs": [],
   "source": [
    "ratio_f = burst_freqs_G2M_th_ind ./ burst_freqs_G1_th_ind\n",
    "ratio_b = burst_sizes_G2M_th_ind ./ burst_sizes_G1_th_ind;"
   ]
  },
  {
   "cell_type": "code",
   "execution_count": 17,
   "id": "a28b2ca7-98fa-4ee4-be89-c45751fd6c29",
   "metadata": {},
   "outputs": [],
   "source": [
    "genes = [\"Avpi1\", \"Rpl7\", \"Akap9\", \"Smc1a\", \"Cobl\"]\n",
    "inds = [findfirst(gene_names .== gene) for gene in genes];"
   ]
  },
  {
   "cell_type": "code",
   "execution_count": null,
   "id": "d46c770c-5358-436e-8b40-2c7abb4e9ff4",
   "metadata": {},
   "outputs": [],
   "source": [
    "println(means_ratio[inds])"
   ]
  },
  {
   "cell_type": "code",
   "execution_count": null,
   "id": "ce16e537-23f1-428c-b624-1d207634d8a3",
   "metadata": {},
   "outputs": [],
   "source": [
    "CI_ratio_f = @time get_ratio_confidence_intervals(G1_th_ind_fits[inds], xG1[inds], 2,\n",
    "                                                  G2M_th_ind_fits[inds], xG2M[inds], 4,\n",
    "                                                  get_burst_frequency_ratio_CI_PL, time_limit=60.0)"
   ]
  },
  {
   "cell_type": "code",
   "execution_count": null,
   "id": "99d1b156",
   "metadata": {},
   "outputs": [],
   "source": [
    "CI_ratio_b = @time get_ratio_confidence_intervals(G1_th_ind_fits[inds], xG1[inds], 2,\n",
    "                                                  G2M_th_ind_fits[inds], xG2M[inds], 4,\n",
    "                                                  get_burst_size_ratio_CI_PL, time_limit=60.0)"
   ]
  },
  {
   "cell_type": "code",
   "execution_count": 21,
   "id": "b7cb5347-e5f9-42eb-9d3a-e810565e8718",
   "metadata": {},
   "outputs": [],
   "source": [
    "f = Figure(size = (size_pt[1]*0.9, size_pt[2]*1.35), figure_padding = 1)\n",
    "ga = f[1,1] = GridLayout()\n",
    "\n",
    "ax = Axis(ga[1,1],\n",
    "          xlabel=\"\", ylabel=\"Burst frequency ratio\", xticklabelsvisible=false)\n",
    "x = 1:length(genes)\n",
    "ax.xticks = (x, genes)\n",
    "\n",
    "y = ratio_f[inds]\n",
    "y_lb = first.(CI_ratio_f)\n",
    "y_ub = last.(CI_ratio_f)\n",
    "scatter!(ax, x, y, markersize=7, color=c2)\n",
    "errorbars!(ax, x, y, y .- y_lb, y_ub .- y, whiskerwidth=5, color=c2)\n",
    "hlines!(ax, 1, color=(:black, 0.5), linestyle=:dash)\n",
    "ylims!(ax, (0.3, 1.4))\n",
    "\n",
    "ax = Axis(ga[2,1],\n",
    "          xlabel=\"\", ylabel=\"Burst size ratio\")\n",
    "x = 1:length(genes)\n",
    "ax.xticks = (x, genes)\n",
    "\n",
    "y = ratio_b[inds]\n",
    "y_lb = first.(CI_ratio_b)\n",
    "y_ub = last.(CI_ratio_b)\n",
    "scatter!(ax, x, y, markersize=7, color=c1)\n",
    "errorbars!(ax, x, y, y .- y_lb, y_ub .- y, whiskerwidth=5, color=c1)\n",
    "hlines!(ax, 1, color=(:black, 0.5), linestyle=:dash)\n",
    "\n",
    "rowgap!(ga, 3)"
   ]
  },
  {
   "cell_type": "code",
   "execution_count": null,
   "id": "badc2642-3176-449d-ad1b-7587ca75b8f8",
   "metadata": {},
   "outputs": [],
   "source": [
    "f"
   ]
  },
  {
   "cell_type": "markdown",
   "id": "e2366a3f-ac04-4805-8230-e83f38f946a1",
   "metadata": {},
   "source": [
    "# Fig. 2D: raincloud plots of ratios"
   ]
  },
  {
   "cell_type": "code",
   "execution_count": null,
   "id": "1e2dbdcc-15ca-4571-a8a5-38c806cac399",
   "metadata": {},
   "outputs": [],
   "source": [
    "@show median(ratio_f)\n",
    "@show quantile(ratio_f, 0.25)\n",
    "@show quantile(ratio_f, 0.75);"
   ]
  },
  {
   "cell_type": "code",
   "execution_count": null,
   "id": "9eb4bdae-bd1a-4c7a-aa36-04d7c498e1f2",
   "metadata": {},
   "outputs": [],
   "source": [
    "@show median(ratio_b)\n",
    "@show quantile(ratio_b, 0.25)\n",
    "@show quantile(ratio_b, 0.75);"
   ]
  },
  {
   "cell_type": "code",
   "execution_count": null,
   "id": "03944045",
   "metadata": {},
   "outputs": [],
   "source": [
    "x = ratio_f\n",
    "y = ratio_b\n",
    "f = Figure(size = (size_pt[1]*0.85, size_pt[2]*1.0), figure_padding = 1)\n",
    "\n",
    "\n",
    "axmain = Axis(f[1, 1], xlabel = \"\", ylabel = \"\",\n",
    "              yminorticks = IntervalsBetween(2),\n",
    "              yminorticksvisible = true,\n",
    "              yminorticksize = 1.5,\n",
    "              yminortickwidth = 0.7)\n",
    "\n",
    "scatter!(axmain, x, y, color=(cx2, 0.4), markersize=3)\n",
    "vlines!(axmain, 1, color=(:black, 0.4), linestyle=:dash)\n",
    "hlines!(axmain, 1, color=(:black, 0.4), linestyle=:dash)\n",
    "xlims!(axmain, low =0, high=1.5)\n",
    "ylims!(axmain, low=0, high=3)\n",
    "f"
   ]
  },
  {
   "cell_type": "code",
   "execution_count": null,
   "id": "15c075f8",
   "metadata": {},
   "outputs": [],
   "source": [
    "f = Figure(size = (size_pt[1]*0.85, size_pt[2]*1.0), figure_padding = 1)\n",
    "y1 = ratio_f; x1 = fill(\"f\", length(y1))\n",
    "y2 = ratio_b; x2 = fill(\"b\", length(y2))\n",
    "ax = Axis(f[1, 1], ylabel=\"\", xlabel=\"\", yticks=(1:2, [\"f\", \"b\"]))\n",
    "rainclouds!(ax, vcat(x2, x1), vcat(y2, y1), gap=-1.3, \n",
    "            orientation = :horizontal,\n",
    "            color = vcat(fill(c1, length(y1)), fill(c2, length(y2))),\n",
    "            cloud_width=1.0, show_median=false, violin_limits=(-Inf, Inf),\n",
    "            boxplot_width=0.08, boxplot_nudge=0.0, strokewidth = 0.7, whiskerwidth=0,\n",
    "            jitter_width=0.18, markersize=1.3, side_nudge=0.105)\n",
    "vlines!(1, color=(:black, 0.4), linestyle=:dash)\n",
    "xlims!(0, 2.5)\n",
    "f"
   ]
  }
 ],
 "metadata": {
  "kernelspec": {
   "display_name": "Julia 1.11.2",
   "language": "julia",
   "name": "julia-1.11"
  },
  "language_info": {
   "file_extension": ".jl",
   "mimetype": "application/julia",
   "name": "julia",
   "version": "1.11.2"
  }
 },
 "nbformat": 4,
 "nbformat_minor": 5
}
