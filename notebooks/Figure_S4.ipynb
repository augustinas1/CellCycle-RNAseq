{
 "cells": [
  {
   "cell_type": "markdown",
   "id": "ca41d26c",
   "metadata": {},
   "source": [
    "# Figure S4: Alternative model with age-dependent burst frequency & fixed replication timing"
   ]
  },
  {
   "cell_type": "code",
   "execution_count": null,
   "id": "cb0519cd",
   "metadata": {},
   "outputs": [],
   "source": [
    "include(\"../analysis/mESC/load_analysis.jl\")\n",
    "include(\"../analysis/mESC/filter_prior.jl\")\n",
    "\n",
    "srcpath = normpath(srcpath*\"../age-dependent/\")\n",
    "fitpath = normpath(datapath*\"fits_age-dependent/\")\n",
    "include(srcpath*\"dists.jl\")\n",
    "include(srcpath*\"mle.jl\")\n",
    "\n",
    "# fix the replication point to be in the middle of the S phase\n",
    "θᵣ = θ_G1_S + (θ_S_G2M - θ_G1_S)/2\n",
    "\n",
    "fits_main = load(fitpath*\"fits_main.jld2\", \"fits_main\");"
   ]
  },
  {
   "cell_type": "code",
   "execution_count": 29,
   "id": "2a0a8115",
   "metadata": {},
   "outputs": [],
   "source": [
    "fits_alt2 = load(fitpath*\"fits_alt_2_age-dep_bf.jld2\", \"fits_alt2\");"
   ]
  },
  {
   "cell_type": "markdown",
   "id": "f240459d",
   "metadata": {},
   "source": [
    "Perform a series of filtering steps for the alternative age-dependent model and the main-text model, and recover an overlapping set of genes"
   ]
  },
  {
   "cell_type": "code",
   "execution_count": 30,
   "id": "04ad04d8",
   "metadata": {},
   "outputs": [],
   "source": [
    "# --- Step 1 ---\n",
    "\n",
    "# Remove all genes for which the predicted mean expression given by alternative age-dependent in either G1 or G2/M \n",
    "# cell cycle phase is negatively correlated with the cell age θ. Usually indicative of a bad model fit (due to larger \n",
    "# deviations from the ratio of 2 between the cells in θ_f and in θ_i).\n",
    "\n",
    "inds = Vector{Bool}(undef, ngenes)\n",
    "for i in 1:ngenes\n",
    "    mG1 = mean.(Ref(fits_alt2[i]), θs_G1, Ref(T_cycle), Ref(decay_rates[i]), Ref(θᵣ), Ref(θ_G1_S), Ref(θ_S_G2M))\n",
    "    mG2M = mean.(Ref(fits_alt2[i]), θs_G2M, Ref(T_cycle), Ref(decay_rates[i]), Ref(θᵣ), Ref(θ_G1_S), Ref(θ_S_G2M))\n",
    "    inds[i] = (cor(mG1, θs_G1) .> 0) .&& (cor(mG2M, θs_G2M) .> 0)\n",
    "end\n",
    "\n",
    "inds1 = findall(inds);"
   ]
  },
  {
   "cell_type": "code",
   "execution_count": 31,
   "id": "0952ea21",
   "metadata": {},
   "outputs": [],
   "source": [
    "# -- Step 2 ---\n",
    "# Remove genes that have a clearly bad fit -- indicated by a negative R^2 value either for the mean or variance over the entire cell cycle\n",
    "\n",
    "function compute_rsq_mean_alt2(ind::Int, m=fits_alt2[ind])\n",
    "    counts_G1 = [xG1[ind][_inds] for _inds in inds_θs_G1]\n",
    "    counts_S = [xS[ind][_inds] for _inds in inds_θs_S]\n",
    "    counts_G2M = [xG2M[ind][_inds] for _inds in inds_θs_G2M]\n",
    "\n",
    "    yG1 = mean.(counts_G1)\n",
    "    yS = mean.(counts_S)\n",
    "    yG2M = mean.(counts_G2M)\n",
    "    y = vcat(yG1, yS, yG2M)\n",
    "\n",
    "    ms = mean.(Ref(m), θs, Ref(T_cycle), Ref(decay_rates[ind]), Ref(θᵣ), Ref(θ_G1_S), Ref(θ_S_G2M))\n",
    "    r2 = 1 - sum((y .- ms).^2) / sum((y.- mean(y)).^2)\n",
    "    r2\n",
    "end\n",
    "\n",
    "function compute_rsq_var_alt2(ind::Int, m=fits_alt2[ind])\n",
    "    counts_G1 = [xG1[ind][_inds] for _inds in inds_θs_G1]\n",
    "    counts_S = [xS[ind][_inds] for _inds in inds_θs_S]\n",
    "    counts_G2M = [xG2M[ind][_inds] for _inds in inds_θs_G2M]\n",
    "\n",
    "    yG1 = var.(counts_G1)\n",
    "    yS = var.(counts_S)\n",
    "    yG2M = var.(counts_G2M)\n",
    "    y = vcat(yG1, yS, yG2M)\n",
    "    \n",
    "    vars = var.(Ref(m), θs, Ref(T_cycle), Ref(decay_rates[ind]), Ref(θᵣ), Ref(θ_G1_S), Ref(θ_S_G2M))\n",
    "    r2 = 1 - sum((y .- vars).^2) / sum((y.- mean(y)).^2)\n",
    "    r2\n",
    "end\n",
    "\n",
    "mean_rsqs_alt2 = compute_rsq_mean_alt2.(1:ngenes)\n",
    "var_rsqs_alt2 = compute_rsq_var_alt2.(1:ngenes)\n",
    "\n",
    "inds2 = findall(mean_rsqs_alt2 .> 0 .&& var_rsqs_alt2 .> 0);"
   ]
  },
  {
   "cell_type": "code",
   "execution_count": null,
   "id": "0a869ae3",
   "metadata": {},
   "outputs": [],
   "source": [
    "# --- Step 3 ---\n",
    "# Remove genes for which the alternative model estimates a burst size tending to the lower parameter bound (leads to unrealistic burst parameter ratio estimates)\n",
    "\n",
    "b1s = [m.b₁ for m in fits_alt2]\n",
    "b2s = [m.b₂ for m in fits_alt2]\n",
    "inds3 = intersect(findall(b1s .> 0.002), findall(b2s .> 0.002))\n",
    "\n",
    "fits_alt2 = fits_alt2[intersect(inds1, inds2, inds3)]\n",
    "gene_names_alt2 = gene_names[intersect(inds1, inds2, inds3)]\n",
    "println(\"$(length(gene_names_alt2)) genes left after filtering for alt1 model.\");"
   ]
  },
  {
   "cell_type": "code",
   "execution_count": null,
   "id": "891185b6",
   "metadata": {},
   "outputs": [],
   "source": [
    "# perform filtering for the main model\n",
    "include(\"../analysis/mESC/filter_post.jl\")"
   ]
  },
  {
   "cell_type": "code",
   "execution_count": null,
   "id": "1c39f452",
   "metadata": {},
   "outputs": [],
   "source": [
    "inds = findall(in(gene_names_alt2), gene_names)\n",
    "_inds = findall(in(gene_names), gene_names_alt2)\n",
    "fits_alt2 = fits_alt2[_inds]\n",
    "\n",
    "xG1 = xG1[inds]\n",
    "xS = xS[inds]\n",
    "xG2M = xG2M[inds]\n",
    "\n",
    "counts_spliced = counts_spliced[inds]\n",
    "gene_names = gene_names[inds]\n",
    "decay_rates = decay_rates[inds]\n",
    "\n",
    "G1_th_ind_fits = G1_th_ind_fits[inds]\n",
    "G2M_th_ind_fits = G2M_th_ind_fits[inds]\n",
    "fits_main = fits_main[inds]\n",
    "\n",
    "ndiff = ngenes - length(inds)\n",
    "ngenes = length(inds)\n",
    "\n",
    "println(\"Removed $ndiff genes that did not overlap between the filtered gene sets.\")\n",
    "println(\"$ngenes genes left remaining.\");"
   ]
  },
  {
   "cell_type": "code",
   "execution_count": 35,
   "id": "8c5d483c",
   "metadata": {},
   "outputs": [],
   "source": [
    "burst_freqs_G1_alt2 = get_burst_frequency_G1.(fits_alt2, Ref(thetaG1))\n",
    "burst_freqs_G2M_alt2 = get_burst_frequency_G2M.(fits_alt2, Ref(thetaG2M))\n",
    "burst_sizes_G1_alt2 = get_burst_size_G1.(fits_alt2)\n",
    "burst_sizes_G2M_alt2 = get_burst_size_G2M.(fits_alt2);"
   ]
  },
  {
   "cell_type": "code",
   "execution_count": 36,
   "id": "b5447ff2",
   "metadata": {},
   "outputs": [],
   "source": [
    "burst_freqs_G1_main = get_burst_frequency_G1.(fits_main)\n",
    "burst_freqs_G2M_main = get_burst_frequency_G2M.(fits_main)\n",
    "burst_sizes_G1_main = get_burst_size_G1.(fits_main, Ref(thetaG1))\n",
    "burst_sizes_G2M_main = get_burst_size_G2M.(fits_main, Ref(thetaG2M));"
   ]
  },
  {
   "cell_type": "code",
   "execution_count": 37,
   "id": "fd81985c",
   "metadata": {},
   "outputs": [],
   "source": [
    "ratio_f_main = burst_freqs_G2M_main ./ burst_freqs_G1_main\n",
    "ratio_b_main = burst_sizes_G2M_main ./ burst_sizes_G1_main\n",
    "ratio_f_alt2 = burst_freqs_G2M_alt2 ./ burst_freqs_G1_alt2\n",
    "ratio_b_alt2 = burst_sizes_G2M_alt2 ./ burst_sizes_G1_alt2;"
   ]
  },
  {
   "cell_type": "code",
   "execution_count": null,
   "id": "9cd3b6fc",
   "metadata": {},
   "outputs": [],
   "source": [
    "@show median(ratio_f_main)\n",
    "@show quantile(ratio_f_main, 0.25)\n",
    "@show quantile(ratio_f_main, 0.75);"
   ]
  },
  {
   "cell_type": "code",
   "execution_count": null,
   "id": "11d665d4",
   "metadata": {},
   "outputs": [],
   "source": [
    "@show median(ratio_f_alt2)\n",
    "@show quantile(ratio_f_alt2, 0.25)\n",
    "@show quantile(ratio_f_alt2, 0.75);"
   ]
  },
  {
   "cell_type": "code",
   "execution_count": null,
   "id": "5ec419a8",
   "metadata": {},
   "outputs": [],
   "source": [
    "@show median(ratio_b_main)\n",
    "@show quantile(ratio_b_main, 0.25)\n",
    "@show quantile(ratio_b_main, 0.75);"
   ]
  },
  {
   "cell_type": "code",
   "execution_count": null,
   "id": "c2d2a812",
   "metadata": {},
   "outputs": [],
   "source": [
    "@show median(ratio_b_alt2)\n",
    "@show quantile(ratio_b_alt2, 0.25)\n",
    "@show quantile(ratio_b_alt2, 0.75);"
   ]
  },
  {
   "cell_type": "code",
   "execution_count": 42,
   "id": "0b2fb13a",
   "metadata": {},
   "outputs": [],
   "source": [
    "x = ratio_f_alt2\n",
    "y = ratio_b_alt2\n",
    "f = Figure(size = (size_pt[1]*1.1, size_pt[2]*1.2), figure_padding = 1)\n",
    "\n",
    "ga = f[1, 1] = GridLayout()\n",
    "axtop = Axis(ga[1, 1], \n",
    "             leftspinevisible = false,\n",
    "             rightspinevisible = false,\n",
    "             bottomspinevisible = false,\n",
    "             topspinevisible = false)\n",
    "axmain = Axis(ga[2, 1], xlabel = \"\", ylabel = \"\",\n",
    "              yminorticks = IntervalsBetween(2),\n",
    "              yminorticksvisible = true,\n",
    "              yminorticksize = 1.5,\n",
    "              yminortickwidth = 0.7,\n",
    "              xticksmirrored = true,\n",
    "              yticksmirrored = true,\n",
    "              rightspinecolor = (c1, 1),\n",
    "              topspinecolor = (c2, 1))\n",
    "axright = Axis(ga[2, 2],\n",
    "               leftspinevisible = false,\n",
    "               rightspinevisible = false,\n",
    "               bottomspinevisible = false,\n",
    "               topspinevisible = false)\n",
    "\n",
    "linkyaxes!(axmain, axright)\n",
    "linkxaxes!(axmain, axtop)\n",
    "\n",
    "hidedecorations!(axtop, grid = false)\n",
    "hidedecorations!(axright, grid = false)\n",
    "scatter!(axmain, x, y, color=(:gray, 0.4), markersize=2)\n",
    "vlines!(axmain, 1, color=(:black, 0.4), linestyle=:dash)\n",
    "hlines!(axmain, 1, color=(:black, 0.4), linestyle=:dash)\n",
    "xlims!(axmain, low = 0, high = 2.0)\n",
    "\n",
    "density!(axtop, x, color=(c2), npoints=1000)\n",
    "density!(axtop, ratio_f_main, color=(c2, 0.2), npoints=1000, strokewidth=0.1)\n",
    "hlines!(axtop, 0, color=(:black, 0.3), linewidth=0.3)\n",
    "boxplot!(axtop, fill(0.0, length(x)), x, orientation=:horizontal, strokewidth = 0.7, \n",
    "         width=0.7, whiskerwidth=0, show_outliers=false, color=(c2, 0))\n",
    "ylims!(axtop, low=-0.4, high=3.2)\n",
    "\n",
    "density!(axright, y, direction = :y, color=(c1), npoints=1000)\n",
    "density!(axright, ratio_b_main, direction = :y, color=(c1, 0.2), npoints=1000)\n",
    "vlines!(axright, 0, color=(:black, 0.3), linewidth=0.3)\n",
    "boxplot!(axright, fill(0.0, length(y)), y, strokewidth = 0.7, \n",
    "         width=0.5, whiskerwidth=0, show_outliers=false, color=(c1, 0))\n",
    "ylims!(axright, low=0, high=3.0)\n",
    "xlims!(axright, low=-0.4, high=3.2)\n",
    "\n",
    "colgap!(ga, 2)\n",
    "rowgap!(ga, 2)\n",
    "colsize!(ga, 2, Relative(1.2/3))\n",
    "rowsize!(ga, 1, Relative(1.2/3))"
   ]
  },
  {
   "cell_type": "code",
   "execution_count": null,
   "id": "247942c3",
   "metadata": {},
   "outputs": [],
   "source": [
    "f"
   ]
  },
  {
   "cell_type": "code",
   "execution_count": 44,
   "id": "a8abf1be",
   "metadata": {},
   "outputs": [],
   "source": [
    "cb = colorant\"#40b2dd\"\n",
    "cv3 = colorant\"#57C6FF\"\n",
    "cv2 = colorant\"#9881FD\"\n",
    "cv1 = c1;"
   ]
  },
  {
   "cell_type": "code",
   "execution_count": null,
   "id": "f5b5e9b0",
   "metadata": {},
   "outputs": [],
   "source": [
    "function plot_mean_fit(f::GridPosition, ind::Int)\n",
    "    m_main = fits_main[ind]\n",
    "    m_alt = fits_alt2[ind]\n",
    "    \n",
    "    counts_G1 = [xG1[ind][_inds] for _inds in inds_θs_G1]\n",
    "    counts_S = [xS[ind][_inds] for _inds in inds_θs_S]\n",
    "    counts_G2M = [xG2M[ind][_inds] for _inds in inds_θs_G2M]\n",
    "\n",
    "    yG1 = mean.(counts_G1)\n",
    "    yS = mean.(counts_S)\n",
    "    yG2M = mean.(counts_G2M)\n",
    "\n",
    "    ax = Axis(f, xlabel=\"\", ylabel=\"Mean\", xticks=(0:0.2:1))\n",
    "    vlines!(ax, θ_G1_S, linewidth=0.8, color=(:black, 0.2))\n",
    "    vlines!(ax, θ_S_G2M, linewidth=0.8, color=(:black, 0.2))\n",
    "    vlines!(ax, θᵣ, linewidth=0.8, color=(cv2, 0.6))\n",
    "\n",
    "    y = vcat(yG1, yS, yG2M)\n",
    "    lines!(ax, θs, y, color=(cb, 0.3), linewidth=0.3)\n",
    "    scatter!(ax, θs, y, color=(cb, 0.7), markersize=3.0, strokecolor=(c1, 0.85), strokewidth=0.2)\n",
    "    lines!(ax, θs, mean.(Ref(m_main), θs, Ref(T_cycle), Ref(decay_rates[ind]), Ref(θᵣ), Ref(θ_G1_S), Ref(θ_S_G2M)), color=(:gray, 0.7), linewidth=1.8)\n",
    "    lines!(ax, θs, mean.(Ref(m_alt), θs, Ref(T_cycle), Ref(decay_rates[ind]), Ref(θᵣ), Ref(θ_G1_S), Ref(θ_S_G2M)), color=(c3, 0.7), linewidth=1.8)\n",
    "    \n",
    "    xlims!(ax, low=-0.02, high=1.01)\n",
    "\n",
    "    ax \n",
    "end"
   ]
  },
  {
   "cell_type": "code",
   "execution_count": null,
   "id": "eea86493",
   "metadata": {},
   "outputs": [],
   "source": [
    "function plot_var_fit(f::GridPosition, ind::Int)\n",
    "    m_main = fits_main[ind]\n",
    "    m_alt = fits_alt2[ind]\n",
    "\n",
    "    counts_G1 = [xG1[ind][_inds] for _inds in inds_θs_G1]\n",
    "    counts_S = [xS[ind][_inds] for _inds in inds_θs_S]\n",
    "    counts_G2M = [xG2M[ind][_inds] for _inds in inds_θs_G2M]\n",
    "\n",
    "    yG1 = var.(counts_G1)\n",
    "    yS = var.(counts_S)\n",
    "    yG2M = var.(counts_G2M)\n",
    " \n",
    "    ax = Axis(f, xlabel=\"Cell age θ\", ylabel=\"Variance\", xticks=(0:0.2:1))\n",
    "    vlines!(ax, θ_G1_S, linewidth=0.8, color=(:black, 0.2))\n",
    "    vlines!(ax, θ_S_G2M, linewidth=0.8, color=(:black, 0.2))\n",
    "    vlines!(ax, θᵣ, linewidth=0.8, color=(cv2, 0.6))\n",
    "        \n",
    "    y = vcat(yG1, yS, yG2M)\n",
    "    lines!(ax, θs, y, color=(cb, 0.3), linewidth=0.3)\n",
    "    scatter!(ax, θs, y, color=(cb, 0.7), markersize=3.0, strokecolor=(c1, 0.85), strokewidth=0.2)\n",
    "    lines!(ax, θs, var.(Ref(m_main), θs, Ref(T_cycle), Ref(decay_rates[ind]), Ref(θᵣ), Ref(θ_G1_S), Ref(θ_S_G2M)), color=(:gray, 0.7), linewidth=1.8)\n",
    "    lines!(ax, θs, var.(Ref(m_alt), θs, Ref(T_cycle), Ref(decay_rates[ind]), Ref(θᵣ), Ref(θ_G1_S), Ref(θ_S_G2M)), color=(c3, 0.7), linewidth=1.8)\n",
    "    \n",
    "    xlims!(ax, low=-0.02, high=1.01)\n",
    "    ax \n",
    "end"
   ]
  },
  {
   "cell_type": "code",
   "execution_count": null,
   "id": "dc417319",
   "metadata": {},
   "outputs": [],
   "source": [
    "f = Figure(size = (size_pt[1]*3.0, size_pt[2]*1.4), figure_padding = 1, fontsize=7)\n",
    "ga = f[1,1] = GridLayout()\n",
    "\n",
    "ind = findfirst(gene_names .== \"Uqcrh\")\n",
    "println(gene_names[ind])\n",
    "ax11 = plot_mean_fit(ga[1,1], ind)\n",
    "ax11.title = gene_names[ind]\n",
    "ax11.titlefont = \"Arial\"\n",
    "ax11.xlabel = \"\"\n",
    "ax11.xticksvisible = false\n",
    "ax11.xticklabelsvisible = false\n",
    "vlines!(ax11, θs_S[20], linewidth=0.8, color=(:red, 0.2))\n",
    "\n",
    "ax21 = plot_var_fit(ga[2,1], ind)\n",
    "ax21.xlabel = \"\"\n",
    "\n",
    "ind = findfirst(gene_names .== \"Lsm8\")\n",
    "ax12 = plot_mean_fit(ga[1,2], ind)\n",
    "println(gene_names[ind])\n",
    "ax12.title = gene_names[ind]\n",
    "ax12.titlefont = \"Arial\"\n",
    "ax12.xlabel = \"\"\n",
    "ax12.ylabel = \"\"\n",
    "ax12.xticksvisible = false\n",
    "ax12.xticklabelsvisible = false\n",
    "vlines!(ax12, θs_S[5], linewidth=0.8, color=(:red, 0.2))\n",
    "\n",
    "ax22 = plot_var_fit(ga[2,2], ind)\n",
    "ax22.ylabel = \"\"\n",
    "\n",
    "ind = findfirst(gene_names .== \"Vim\")\n",
    "println(gene_names[ind])\n",
    "ax13 = plot_mean_fit(ga[1,3], ind)\n",
    "ax13.title = gene_names[ind]\n",
    "ax13.titlefont = \"Arial\"\n",
    "ax13.xlabel = \"\"\n",
    "ax13.ylabel = \"\"\n",
    "ax13.yticks = 10:10:30\n",
    "ax13.xticksvisible = false\n",
    "ax13.xticklabelsvisible = false\n",
    "vlines!(ax13, θs_G1[8], linewidth=0.8, color=(:red, 0.2))\n",
    "vlines!(ax13, θs_G2M[14], linewidth=0.8, color=(:red, 0.2))\n",
    "\n",
    "ax23 = plot_var_fit(ga[2,3], ind)\n",
    "ax23.xlabel = \"\"\n",
    "ax23.ylabel = \"\"\n",
    "ax23.yticks = 50:100:250\n",
    "\n",
    "colgap!(ga, 10)\n",
    "rowgap!(ga, 6)\n",
    "\n",
    "f"
   ]
  },
  {
   "cell_type": "code",
   "execution_count": null,
   "id": "3b38ddb9",
   "metadata": {},
   "outputs": [],
   "source": []
  }
 ],
 "metadata": {
  "kernelspec": {
   "display_name": "Julia 1.11.2",
   "language": "julia",
   "name": "julia-1.11"
  },
  "language_info": {
   "file_extension": ".jl",
   "mimetype": "application/julia",
   "name": "julia",
   "version": "1.11.2"
  }
 },
 "nbformat": 4,
 "nbformat_minor": 5
}
